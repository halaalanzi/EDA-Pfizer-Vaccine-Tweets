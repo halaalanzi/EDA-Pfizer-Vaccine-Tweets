{
 "cells": [
  {
   "cell_type": "markdown",
   "id": "76ca6a70",
   "metadata": {},
   "source": [
    "   # EDA Pfizer Vaccine Tweets\n",
    "____"
   ]
  },
  {
   "cell_type": "markdown",
   "id": "4eb397e1",
   "metadata": {},
   "source": [
    "### Data manipulation libraries:"
   ]
  },
  {
   "cell_type": "code",
   "execution_count": 1,
   "id": "03f380ab",
   "metadata": {},
   "outputs": [],
   "source": [
    "import pandas as pd\n",
    "import numpy  as np"
   ]
  },
  {
   "cell_type": "markdown",
   "id": "397ab569",
   "metadata": {},
   "source": [
    "### Visualization libraries:"
   ]
  },
  {
   "cell_type": "code",
   "execution_count": 2,
   "id": "f874f7f5",
   "metadata": {},
   "outputs": [],
   "source": [
    "import matplotlib.pyplot as plt\n",
    "import seaborn           as sns\n",
    "import warnings\n",
    "warnings.filterwarnings('ignore')"
   ]
  },
  {
   "cell_type": "markdown",
   "id": "68381e03",
   "metadata": {},
   "source": [
    "### collections libraries: "
   ]
  },
  {
   "cell_type": "code",
   "execution_count": 3,
   "id": "75ed9bc3",
   "metadata": {},
   "outputs": [],
   "source": [
    "from collections import Counter"
   ]
  },
  {
   "cell_type": "markdown",
   "id": "7b83c2d6",
   "metadata": {},
   "source": [
    "### Load Dataset"
   ]
  },
  {
   "cell_type": "code",
   "execution_count": 4,
   "id": "7522eed8",
   "metadata": {},
   "outputs": [],
   "source": [
    "df =pd.read_csv(\"vaccination_tweets.csv\") #I read the data in the Jupyter Notebook"
   ]
  },
  {
   "cell_type": "markdown",
   "id": "4b946b31",
   "metadata": {},
   "source": [
    "### Data Overview"
   ]
  },
  {
   "cell_type": "code",
   "execution_count": 5,
   "id": "9970bcf4",
   "metadata": {},
   "outputs": [
    {
     "data": {
      "text/html": [
       "<div>\n",
       "<style scoped>\n",
       "    .dataframe tbody tr th:only-of-type {\n",
       "        vertical-align: middle;\n",
       "    }\n",
       "\n",
       "    .dataframe tbody tr th {\n",
       "        vertical-align: top;\n",
       "    }\n",
       "\n",
       "    .dataframe thead th {\n",
       "        text-align: right;\n",
       "    }\n",
       "</style>\n",
       "<table border=\"1\" class=\"dataframe\">\n",
       "  <thead>\n",
       "    <tr style=\"text-align: right;\">\n",
       "      <th></th>\n",
       "      <th>id</th>\n",
       "      <th>user_name</th>\n",
       "      <th>user_location</th>\n",
       "      <th>user_description</th>\n",
       "      <th>user_created</th>\n",
       "      <th>user_followers</th>\n",
       "      <th>user_friends</th>\n",
       "      <th>user_favourites</th>\n",
       "      <th>user_verified</th>\n",
       "      <th>date</th>\n",
       "      <th>text</th>\n",
       "      <th>hashtags</th>\n",
       "      <th>source</th>\n",
       "      <th>retweets</th>\n",
       "      <th>favorites</th>\n",
       "      <th>is_retweet</th>\n",
       "    </tr>\n",
       "  </thead>\n",
       "  <tbody>\n",
       "    <tr>\n",
       "      <th>0</th>\n",
       "      <td>1340539111971516416</td>\n",
       "      <td>Rachel Roh</td>\n",
       "      <td>La Crescenta-Montrose, CA</td>\n",
       "      <td>Aggregator of Asian American news; scanning di...</td>\n",
       "      <td>2009-04-08 17:52:46</td>\n",
       "      <td>405</td>\n",
       "      <td>1692</td>\n",
       "      <td>3247</td>\n",
       "      <td>False</td>\n",
       "      <td>2020-12-20 06:06:44</td>\n",
       "      <td>Same folks said daikon paste could treat a cyt...</td>\n",
       "      <td>['PfizerBioNTech']</td>\n",
       "      <td>Twitter for Android</td>\n",
       "      <td>0</td>\n",
       "      <td>0</td>\n",
       "      <td>False</td>\n",
       "    </tr>\n",
       "    <tr>\n",
       "      <th>1</th>\n",
       "      <td>1338158543359250433</td>\n",
       "      <td>Albert Fong</td>\n",
       "      <td>San Francisco, CA</td>\n",
       "      <td>Marketing dude, tech geek, heavy metal &amp; '80s ...</td>\n",
       "      <td>2009-09-21 15:27:30</td>\n",
       "      <td>834</td>\n",
       "      <td>666</td>\n",
       "      <td>178</td>\n",
       "      <td>False</td>\n",
       "      <td>2020-12-13 16:27:13</td>\n",
       "      <td>While the world has been on the wrong side of ...</td>\n",
       "      <td>NaN</td>\n",
       "      <td>Twitter Web App</td>\n",
       "      <td>1</td>\n",
       "      <td>1</td>\n",
       "      <td>False</td>\n",
       "    </tr>\n",
       "    <tr>\n",
       "      <th>2</th>\n",
       "      <td>1337858199140118533</td>\n",
       "      <td>eli🇱🇹🇪🇺👌</td>\n",
       "      <td>Your Bed</td>\n",
       "      <td>heil, hydra 🖐☺</td>\n",
       "      <td>2020-06-25 23:30:28</td>\n",
       "      <td>10</td>\n",
       "      <td>88</td>\n",
       "      <td>155</td>\n",
       "      <td>False</td>\n",
       "      <td>2020-12-12 20:33:45</td>\n",
       "      <td>#coronavirus #SputnikV #AstraZeneca #PfizerBio...</td>\n",
       "      <td>['coronavirus', 'SputnikV', 'AstraZeneca', 'Pf...</td>\n",
       "      <td>Twitter for Android</td>\n",
       "      <td>0</td>\n",
       "      <td>0</td>\n",
       "      <td>False</td>\n",
       "    </tr>\n",
       "    <tr>\n",
       "      <th>3</th>\n",
       "      <td>1337855739918835717</td>\n",
       "      <td>Charles Adler</td>\n",
       "      <td>Vancouver, BC - Canada</td>\n",
       "      <td>Hosting \"CharlesAdlerTonight\" Global News Radi...</td>\n",
       "      <td>2008-09-10 11:28:53</td>\n",
       "      <td>49165</td>\n",
       "      <td>3933</td>\n",
       "      <td>21853</td>\n",
       "      <td>True</td>\n",
       "      <td>2020-12-12 20:23:59</td>\n",
       "      <td>Facts are immutable, Senator, even when you're...</td>\n",
       "      <td>NaN</td>\n",
       "      <td>Twitter Web App</td>\n",
       "      <td>446</td>\n",
       "      <td>2129</td>\n",
       "      <td>False</td>\n",
       "    </tr>\n",
       "    <tr>\n",
       "      <th>4</th>\n",
       "      <td>1337854064604966912</td>\n",
       "      <td>Citizen News Channel</td>\n",
       "      <td>NaN</td>\n",
       "      <td>Citizen News Channel bringing you an alternati...</td>\n",
       "      <td>2020-04-23 17:58:42</td>\n",
       "      <td>152</td>\n",
       "      <td>580</td>\n",
       "      <td>1473</td>\n",
       "      <td>False</td>\n",
       "      <td>2020-12-12 20:17:19</td>\n",
       "      <td>Explain to me again why we need a vaccine @Bor...</td>\n",
       "      <td>['whereareallthesickpeople', 'PfizerBioNTech']</td>\n",
       "      <td>Twitter for iPhone</td>\n",
       "      <td>0</td>\n",
       "      <td>0</td>\n",
       "      <td>False</td>\n",
       "    </tr>\n",
       "    <tr>\n",
       "      <th>5</th>\n",
       "      <td>1337852648389832708</td>\n",
       "      <td>Dee</td>\n",
       "      <td>Birmingham, England</td>\n",
       "      <td>Gastroenterology trainee, Clinical Research Fe...</td>\n",
       "      <td>2020-01-26 21:43:12</td>\n",
       "      <td>105</td>\n",
       "      <td>108</td>\n",
       "      <td>106</td>\n",
       "      <td>False</td>\n",
       "      <td>2020-12-12 20:11:42</td>\n",
       "      <td>Does anyone have any useful advice/guidance fo...</td>\n",
       "      <td>NaN</td>\n",
       "      <td>Twitter for iPhone</td>\n",
       "      <td>0</td>\n",
       "      <td>0</td>\n",
       "      <td>False</td>\n",
       "    </tr>\n",
       "    <tr>\n",
       "      <th>6</th>\n",
       "      <td>1337851215875608579</td>\n",
       "      <td>Gunther Fehlinger</td>\n",
       "      <td>Austria, Ukraine and Kosovo</td>\n",
       "      <td>End North Stream 2 now - the pipeline of corru...</td>\n",
       "      <td>2013-06-10 17:49:22</td>\n",
       "      <td>2731</td>\n",
       "      <td>5001</td>\n",
       "      <td>69344</td>\n",
       "      <td>False</td>\n",
       "      <td>2020-12-12 20:06:00</td>\n",
       "      <td>it is a bit sad to claim the fame for success ...</td>\n",
       "      <td>['vaccination']</td>\n",
       "      <td>Twitter Web App</td>\n",
       "      <td>0</td>\n",
       "      <td>4</td>\n",
       "      <td>False</td>\n",
       "    </tr>\n",
       "    <tr>\n",
       "      <th>7</th>\n",
       "      <td>1337850832256176136</td>\n",
       "      <td>Dr.Krutika Kuppalli</td>\n",
       "      <td>NaN</td>\n",
       "      <td>ID, Global Health, VHF, Pandemic Prep, Emergin...</td>\n",
       "      <td>2019-03-25 04:14:29</td>\n",
       "      <td>21924</td>\n",
       "      <td>593</td>\n",
       "      <td>7815</td>\n",
       "      <td>True</td>\n",
       "      <td>2020-12-12 20:04:29</td>\n",
       "      <td>There have not been many bright days in 2020 b...</td>\n",
       "      <td>['BidenHarris', 'Election2020']</td>\n",
       "      <td>Twitter for iPhone</td>\n",
       "      <td>2</td>\n",
       "      <td>22</td>\n",
       "      <td>False</td>\n",
       "    </tr>\n",
       "    <tr>\n",
       "      <th>8</th>\n",
       "      <td>1337850023531347969</td>\n",
       "      <td>Erin Despas</td>\n",
       "      <td>NaN</td>\n",
       "      <td>Designing&amp;selling on Teespring. Like 90s Disne...</td>\n",
       "      <td>2009-10-30 17:53:54</td>\n",
       "      <td>887</td>\n",
       "      <td>1515</td>\n",
       "      <td>9639</td>\n",
       "      <td>False</td>\n",
       "      <td>2020-12-12 20:01:16</td>\n",
       "      <td>Covid vaccine; You getting it?\\n\\n #CovidVacci...</td>\n",
       "      <td>['CovidVaccine', 'covid19', 'PfizerBioNTech', ...</td>\n",
       "      <td>Twitter Web App</td>\n",
       "      <td>2</td>\n",
       "      <td>1</td>\n",
       "      <td>False</td>\n",
       "    </tr>\n",
       "    <tr>\n",
       "      <th>9</th>\n",
       "      <td>1337842295857623042</td>\n",
       "      <td>Ch.Amjad Ali</td>\n",
       "      <td>Islamabad</td>\n",
       "      <td>#ProudPakistani #LovePakArmy #PMIK @insafiansp...</td>\n",
       "      <td>2012-11-12 04:18:12</td>\n",
       "      <td>671</td>\n",
       "      <td>2368</td>\n",
       "      <td>20469</td>\n",
       "      <td>False</td>\n",
       "      <td>2020-12-12 19:30:33</td>\n",
       "      <td>#CovidVaccine \\n\\nStates will start getting #C...</td>\n",
       "      <td>['CovidVaccine', 'COVID19Vaccine', 'US', 'paku...</td>\n",
       "      <td>Twitter Web App</td>\n",
       "      <td>0</td>\n",
       "      <td>0</td>\n",
       "      <td>False</td>\n",
       "    </tr>\n",
       "  </tbody>\n",
       "</table>\n",
       "</div>"
      ],
      "text/plain": [
       "                    id             user_name                user_location  \\\n",
       "0  1340539111971516416            Rachel Roh    La Crescenta-Montrose, CA   \n",
       "1  1338158543359250433           Albert Fong            San Francisco, CA   \n",
       "2  1337858199140118533              eli🇱🇹🇪🇺👌                     Your Bed   \n",
       "3  1337855739918835717         Charles Adler       Vancouver, BC - Canada   \n",
       "4  1337854064604966912  Citizen News Channel                          NaN   \n",
       "5  1337852648389832708                   Dee          Birmingham, England   \n",
       "6  1337851215875608579     Gunther Fehlinger  Austria, Ukraine and Kosovo   \n",
       "7  1337850832256176136   Dr.Krutika Kuppalli                          NaN   \n",
       "8  1337850023531347969           Erin Despas                          NaN   \n",
       "9  1337842295857623042          Ch.Amjad Ali                    Islamabad   \n",
       "\n",
       "                                    user_description         user_created  \\\n",
       "0  Aggregator of Asian American news; scanning di...  2009-04-08 17:52:46   \n",
       "1  Marketing dude, tech geek, heavy metal & '80s ...  2009-09-21 15:27:30   \n",
       "2                                     heil, hydra 🖐☺  2020-06-25 23:30:28   \n",
       "3  Hosting \"CharlesAdlerTonight\" Global News Radi...  2008-09-10 11:28:53   \n",
       "4  Citizen News Channel bringing you an alternati...  2020-04-23 17:58:42   \n",
       "5  Gastroenterology trainee, Clinical Research Fe...  2020-01-26 21:43:12   \n",
       "6  End North Stream 2 now - the pipeline of corru...  2013-06-10 17:49:22   \n",
       "7  ID, Global Health, VHF, Pandemic Prep, Emergin...  2019-03-25 04:14:29   \n",
       "8  Designing&selling on Teespring. Like 90s Disne...  2009-10-30 17:53:54   \n",
       "9  #ProudPakistani #LovePakArmy #PMIK @insafiansp...  2012-11-12 04:18:12   \n",
       "\n",
       "   user_followers  user_friends  user_favourites  user_verified  \\\n",
       "0             405          1692             3247          False   \n",
       "1             834           666              178          False   \n",
       "2              10            88              155          False   \n",
       "3           49165          3933            21853           True   \n",
       "4             152           580             1473          False   \n",
       "5             105           108              106          False   \n",
       "6            2731          5001            69344          False   \n",
       "7           21924           593             7815           True   \n",
       "8             887          1515             9639          False   \n",
       "9             671          2368            20469          False   \n",
       "\n",
       "                  date                                               text  \\\n",
       "0  2020-12-20 06:06:44  Same folks said daikon paste could treat a cyt...   \n",
       "1  2020-12-13 16:27:13  While the world has been on the wrong side of ...   \n",
       "2  2020-12-12 20:33:45  #coronavirus #SputnikV #AstraZeneca #PfizerBio...   \n",
       "3  2020-12-12 20:23:59  Facts are immutable, Senator, even when you're...   \n",
       "4  2020-12-12 20:17:19  Explain to me again why we need a vaccine @Bor...   \n",
       "5  2020-12-12 20:11:42  Does anyone have any useful advice/guidance fo...   \n",
       "6  2020-12-12 20:06:00  it is a bit sad to claim the fame for success ...   \n",
       "7  2020-12-12 20:04:29  There have not been many bright days in 2020 b...   \n",
       "8  2020-12-12 20:01:16  Covid vaccine; You getting it?\\n\\n #CovidVacci...   \n",
       "9  2020-12-12 19:30:33  #CovidVaccine \\n\\nStates will start getting #C...   \n",
       "\n",
       "                                            hashtags               source  \\\n",
       "0                                 ['PfizerBioNTech']  Twitter for Android   \n",
       "1                                                NaN      Twitter Web App   \n",
       "2  ['coronavirus', 'SputnikV', 'AstraZeneca', 'Pf...  Twitter for Android   \n",
       "3                                                NaN      Twitter Web App   \n",
       "4     ['whereareallthesickpeople', 'PfizerBioNTech']   Twitter for iPhone   \n",
       "5                                                NaN   Twitter for iPhone   \n",
       "6                                    ['vaccination']      Twitter Web App   \n",
       "7                    ['BidenHarris', 'Election2020']   Twitter for iPhone   \n",
       "8  ['CovidVaccine', 'covid19', 'PfizerBioNTech', ...      Twitter Web App   \n",
       "9  ['CovidVaccine', 'COVID19Vaccine', 'US', 'paku...      Twitter Web App   \n",
       "\n",
       "   retweets  favorites  is_retweet  \n",
       "0         0          0       False  \n",
       "1         1          1       False  \n",
       "2         0          0       False  \n",
       "3       446       2129       False  \n",
       "4         0          0       False  \n",
       "5         0          0       False  \n",
       "6         0          4       False  \n",
       "7         2         22       False  \n",
       "8         2          1       False  \n",
       "9         0          0       False  "
      ]
     },
     "execution_count": 5,
     "metadata": {},
     "output_type": "execute_result"
    }
   ],
   "source": [
    "df.head(10) #View the first 10 columns"
   ]
  },
  {
   "cell_type": "code",
   "execution_count": 6,
   "id": "056e0a33",
   "metadata": {},
   "outputs": [
    {
     "data": {
      "text/html": [
       "<div>\n",
       "<style scoped>\n",
       "    .dataframe tbody tr th:only-of-type {\n",
       "        vertical-align: middle;\n",
       "    }\n",
       "\n",
       "    .dataframe tbody tr th {\n",
       "        vertical-align: top;\n",
       "    }\n",
       "\n",
       "    .dataframe thead th {\n",
       "        text-align: right;\n",
       "    }\n",
       "</style>\n",
       "<table border=\"1\" class=\"dataframe\">\n",
       "  <thead>\n",
       "    <tr style=\"text-align: right;\">\n",
       "      <th></th>\n",
       "      <th>id</th>\n",
       "      <th>user_name</th>\n",
       "      <th>user_location</th>\n",
       "      <th>user_description</th>\n",
       "      <th>user_created</th>\n",
       "      <th>user_followers</th>\n",
       "      <th>user_friends</th>\n",
       "      <th>user_favourites</th>\n",
       "      <th>user_verified</th>\n",
       "      <th>date</th>\n",
       "      <th>text</th>\n",
       "      <th>hashtags</th>\n",
       "      <th>source</th>\n",
       "      <th>retweets</th>\n",
       "      <th>favorites</th>\n",
       "      <th>is_retweet</th>\n",
       "    </tr>\n",
       "  </thead>\n",
       "  <tbody>\n",
       "    <tr>\n",
       "      <th>10837</th>\n",
       "      <td>1448465164748001282</td>\n",
       "      <td>Yaffa Lyulka</td>\n",
       "      <td>USA</td>\n",
       "      <td>Citizen of the world. ❤️ #Love #travel, #tea &amp;...</td>\n",
       "      <td>2010-11-27 20:45:15</td>\n",
       "      <td>7093</td>\n",
       "      <td>7777</td>\n",
       "      <td>310114</td>\n",
       "      <td>False</td>\n",
       "      <td>2021-10-14 01:46:21</td>\n",
       "      <td>I'm vaccinated. I still wear a mask.\\nI wear i...</td>\n",
       "      <td>['Iamyou', 'Youareme']</td>\n",
       "      <td>Twitter for iPhone</td>\n",
       "      <td>2</td>\n",
       "      <td>4</td>\n",
       "      <td>False</td>\n",
       "    </tr>\n",
       "    <tr>\n",
       "      <th>10838</th>\n",
       "      <td>1448409639037644803</td>\n",
       "      <td>Jacob Newton</td>\n",
       "      <td>NaN</td>\n",
       "      <td>Journalist with KELOLAND News | Husband | Dad ...</td>\n",
       "      <td>2019-12-25 16:23:26</td>\n",
       "      <td>95</td>\n",
       "      <td>100</td>\n",
       "      <td>330</td>\n",
       "      <td>False</td>\n",
       "      <td>2021-10-13 22:05:42</td>\n",
       "      <td>While the Pfizer-BioNTech vaccine has been aut...</td>\n",
       "      <td>NaN</td>\n",
       "      <td>Twitter Web App</td>\n",
       "      <td>0</td>\n",
       "      <td>0</td>\n",
       "      <td>False</td>\n",
       "    </tr>\n",
       "    <tr>\n",
       "      <th>10839</th>\n",
       "      <td>1448385874203398147</td>\n",
       "      <td>Skull Of Syria</td>\n",
       "      <td>NaN</td>\n",
       "      <td>Save Syria. Free Palestine. 2 State solution. ...</td>\n",
       "      <td>2016-10-05 21:12:43</td>\n",
       "      <td>369</td>\n",
       "      <td>972</td>\n",
       "      <td>1131</td>\n",
       "      <td>False</td>\n",
       "      <td>2021-10-13 20:31:16</td>\n",
       "      <td>The #chemtrails finally make sense - alongside...</td>\n",
       "      <td>['chemtrails', 'climatecatastrophe']</td>\n",
       "      <td>Twitter for Android</td>\n",
       "      <td>0</td>\n",
       "      <td>0</td>\n",
       "      <td>False</td>\n",
       "    </tr>\n",
       "    <tr>\n",
       "      <th>10840</th>\n",
       "      <td>1448379238785032194</td>\n",
       "      <td>one.small.wish</td>\n",
       "      <td>Ohio</td>\n",
       "      <td>Old enough to know better, young enough to do ...</td>\n",
       "      <td>2009-10-21 18:27:09</td>\n",
       "      <td>801</td>\n",
       "      <td>2118</td>\n",
       "      <td>65303</td>\n",
       "      <td>False</td>\n",
       "      <td>2021-10-13 20:04:54</td>\n",
       "      <td>8. Pfizer's vaccine has been FDA-approved. Hm....</td>\n",
       "      <td>NaN</td>\n",
       "      <td>Twitter Web App</td>\n",
       "      <td>0</td>\n",
       "      <td>1</td>\n",
       "      <td>False</td>\n",
       "    </tr>\n",
       "    <tr>\n",
       "      <th>10841</th>\n",
       "      <td>1448376675801055234</td>\n",
       "      <td>one.small.wish</td>\n",
       "      <td>Ohio</td>\n",
       "      <td>Old enough to know better, young enough to do ...</td>\n",
       "      <td>2009-10-21 18:27:09</td>\n",
       "      <td>801</td>\n",
       "      <td>2118</td>\n",
       "      <td>65303</td>\n",
       "      <td>False</td>\n",
       "      <td>2021-10-13 19:54:43</td>\n",
       "      <td>Oh and hey: Update yourself: https://t.co/GGle...</td>\n",
       "      <td>['PfizerBioNTech']</td>\n",
       "      <td>Twitter Web App</td>\n",
       "      <td>0</td>\n",
       "      <td>1</td>\n",
       "      <td>False</td>\n",
       "    </tr>\n",
       "    <tr>\n",
       "      <th>10842</th>\n",
       "      <td>1448358770971643916</td>\n",
       "      <td>Pistache</td>\n",
       "      <td>NaN</td>\n",
       "      <td>NaN</td>\n",
       "      <td>2020-04-13 01:44:16</td>\n",
       "      <td>58</td>\n",
       "      <td>98</td>\n",
       "      <td>3522</td>\n",
       "      <td>False</td>\n",
       "      <td>2021-10-13 18:43:34</td>\n",
       "      <td>2019🎞️https://t.co/mbNxvTvcHn Transplant touri...</td>\n",
       "      <td>['COP15', 'COP26', 'COVID19']</td>\n",
       "      <td>Twitter for Android</td>\n",
       "      <td>0</td>\n",
       "      <td>0</td>\n",
       "      <td>False</td>\n",
       "    </tr>\n",
       "    <tr>\n",
       "      <th>10843</th>\n",
       "      <td>1448357099193479169</td>\n",
       "      <td>Sarah Tallent, DNP, CPNP-AC</td>\n",
       "      <td>North Carolina, USA</td>\n",
       "      <td>AC-PNP and instructor | family-centered care a...</td>\n",
       "      <td>2020-04-29 20:28:02</td>\n",
       "      <td>188</td>\n",
       "      <td>472</td>\n",
       "      <td>569</td>\n",
       "      <td>False</td>\n",
       "      <td>2021-10-13 18:36:56</td>\n",
       "      <td>Got that power boost 💉🦠 \\n\\nI do it for myself...</td>\n",
       "      <td>['PfizerBiontech']</td>\n",
       "      <td>Twitter for iPhone</td>\n",
       "      <td>1</td>\n",
       "      <td>3</td>\n",
       "      <td>False</td>\n",
       "    </tr>\n",
       "    <tr>\n",
       "      <th>10844</th>\n",
       "      <td>1448310047759642631</td>\n",
       "      <td>Antoine Haddad</td>\n",
       "      <td>NaN</td>\n",
       "      <td>Expat since 2015</td>\n",
       "      <td>2021-07-14 09:00:03</td>\n",
       "      <td>652</td>\n",
       "      <td>310</td>\n",
       "      <td>5345</td>\n",
       "      <td>False</td>\n",
       "      <td>2021-10-13 15:29:58</td>\n",
       "      <td>Today I took my second shot of #PfizerBiontech...</td>\n",
       "      <td>['PfizerBiontech', 'UAE', 'Dubai']</td>\n",
       "      <td>Twitter for iPhone</td>\n",
       "      <td>1</td>\n",
       "      <td>33</td>\n",
       "      <td>False</td>\n",
       "    </tr>\n",
       "    <tr>\n",
       "      <th>10845</th>\n",
       "      <td>1448208383094312962</td>\n",
       "      <td>ActivistBowen (PFIZERED TO THE MAX!/GET VAXXED!)</td>\n",
       "      <td>Hong Kong</td>\n",
       "      <td>AMERICAN in HONG KONG, person, blogger, dissid...</td>\n",
       "      <td>2011-06-08 20:17:01</td>\n",
       "      <td>3998</td>\n",
       "      <td>5002</td>\n",
       "      <td>5052</td>\n",
       "      <td>False</td>\n",
       "      <td>2021-10-13 08:45:59</td>\n",
       "      <td>@RCDG_PhD 1. from YOUR FELLOW HUMAN...,(Octobe...</td>\n",
       "      <td>['FULLYVACCINATED', 'PFIZERBIONTECH', 'PFIZER']</td>\n",
       "      <td>Twitter Web App</td>\n",
       "      <td>0</td>\n",
       "      <td>0</td>\n",
       "      <td>False</td>\n",
       "    </tr>\n",
       "    <tr>\n",
       "      <th>10846</th>\n",
       "      <td>1448202162912129032</td>\n",
       "      <td>Baey Yam Keng 马炎庆</td>\n",
       "      <td>Singapore</td>\n",
       "      <td>MP for Tampines GRC, Senior Parliamentary Secr...</td>\n",
       "      <td>2009-02-12 06:52:13</td>\n",
       "      <td>43500</td>\n",
       "      <td>266</td>\n",
       "      <td>893</td>\n",
       "      <td>True</td>\n",
       "      <td>2021-10-13 08:21:16</td>\n",
       "      <td>Just took my booster jab. Not sure if I would ...</td>\n",
       "      <td>['covid_19']</td>\n",
       "      <td>Twitter for iPhone</td>\n",
       "      <td>0</td>\n",
       "      <td>20</td>\n",
       "      <td>False</td>\n",
       "    </tr>\n",
       "  </tbody>\n",
       "</table>\n",
       "</div>"
      ],
      "text/plain": [
       "                        id                                         user_name  \\\n",
       "10837  1448465164748001282                                      Yaffa Lyulka   \n",
       "10838  1448409639037644803                                      Jacob Newton   \n",
       "10839  1448385874203398147                                    Skull Of Syria   \n",
       "10840  1448379238785032194                                    one.small.wish   \n",
       "10841  1448376675801055234                                    one.small.wish   \n",
       "10842  1448358770971643916                                          Pistache   \n",
       "10843  1448357099193479169                       Sarah Tallent, DNP, CPNP-AC   \n",
       "10844  1448310047759642631                                    Antoine Haddad   \n",
       "10845  1448208383094312962  ActivistBowen (PFIZERED TO THE MAX!/GET VAXXED!)   \n",
       "10846  1448202162912129032                                 Baey Yam Keng 马炎庆   \n",
       "\n",
       "             user_location                                   user_description  \\\n",
       "10837                  USA  Citizen of the world. ❤️ #Love #travel, #tea &...   \n",
       "10838                  NaN  Journalist with KELOLAND News | Husband | Dad ...   \n",
       "10839                  NaN  Save Syria. Free Palestine. 2 State solution. ...   \n",
       "10840                 Ohio  Old enough to know better, young enough to do ...   \n",
       "10841                 Ohio  Old enough to know better, young enough to do ...   \n",
       "10842                  NaN                                                NaN   \n",
       "10843  North Carolina, USA  AC-PNP and instructor | family-centered care a...   \n",
       "10844                  NaN                                   Expat since 2015   \n",
       "10845            Hong Kong  AMERICAN in HONG KONG, person, blogger, dissid...   \n",
       "10846            Singapore  MP for Tampines GRC, Senior Parliamentary Secr...   \n",
       "\n",
       "              user_created  user_followers  user_friends  user_favourites  \\\n",
       "10837  2010-11-27 20:45:15            7093          7777           310114   \n",
       "10838  2019-12-25 16:23:26              95           100              330   \n",
       "10839  2016-10-05 21:12:43             369           972             1131   \n",
       "10840  2009-10-21 18:27:09             801          2118            65303   \n",
       "10841  2009-10-21 18:27:09             801          2118            65303   \n",
       "10842  2020-04-13 01:44:16              58            98             3522   \n",
       "10843  2020-04-29 20:28:02             188           472              569   \n",
       "10844  2021-07-14 09:00:03             652           310             5345   \n",
       "10845  2011-06-08 20:17:01            3998          5002             5052   \n",
       "10846  2009-02-12 06:52:13           43500           266              893   \n",
       "\n",
       "       user_verified                 date  \\\n",
       "10837          False  2021-10-14 01:46:21   \n",
       "10838          False  2021-10-13 22:05:42   \n",
       "10839          False  2021-10-13 20:31:16   \n",
       "10840          False  2021-10-13 20:04:54   \n",
       "10841          False  2021-10-13 19:54:43   \n",
       "10842          False  2021-10-13 18:43:34   \n",
       "10843          False  2021-10-13 18:36:56   \n",
       "10844          False  2021-10-13 15:29:58   \n",
       "10845          False  2021-10-13 08:45:59   \n",
       "10846           True  2021-10-13 08:21:16   \n",
       "\n",
       "                                                    text  \\\n",
       "10837  I'm vaccinated. I still wear a mask.\\nI wear i...   \n",
       "10838  While the Pfizer-BioNTech vaccine has been aut...   \n",
       "10839  The #chemtrails finally make sense - alongside...   \n",
       "10840  8. Pfizer's vaccine has been FDA-approved. Hm....   \n",
       "10841  Oh and hey: Update yourself: https://t.co/GGle...   \n",
       "10842  2019🎞️https://t.co/mbNxvTvcHn Transplant touri...   \n",
       "10843  Got that power boost 💉🦠 \\n\\nI do it for myself...   \n",
       "10844  Today I took my second shot of #PfizerBiontech...   \n",
       "10845  @RCDG_PhD 1. from YOUR FELLOW HUMAN...,(Octobe...   \n",
       "10846  Just took my booster jab. Not sure if I would ...   \n",
       "\n",
       "                                              hashtags               source  \\\n",
       "10837                           ['Iamyou', 'Youareme']   Twitter for iPhone   \n",
       "10838                                              NaN      Twitter Web App   \n",
       "10839             ['chemtrails', 'climatecatastrophe']  Twitter for Android   \n",
       "10840                                              NaN      Twitter Web App   \n",
       "10841                               ['PfizerBioNTech']      Twitter Web App   \n",
       "10842                    ['COP15', 'COP26', 'COVID19']  Twitter for Android   \n",
       "10843                               ['PfizerBiontech']   Twitter for iPhone   \n",
       "10844               ['PfizerBiontech', 'UAE', 'Dubai']   Twitter for iPhone   \n",
       "10845  ['FULLYVACCINATED', 'PFIZERBIONTECH', 'PFIZER']      Twitter Web App   \n",
       "10846                                     ['covid_19']   Twitter for iPhone   \n",
       "\n",
       "       retweets  favorites  is_retweet  \n",
       "10837         2          4       False  \n",
       "10838         0          0       False  \n",
       "10839         0          0       False  \n",
       "10840         0          1       False  \n",
       "10841         0          1       False  \n",
       "10842         0          0       False  \n",
       "10843         1          3       False  \n",
       "10844         1         33       False  \n",
       "10845         0          0       False  \n",
       "10846         0         20       False  "
      ]
     },
     "execution_count": 6,
     "metadata": {},
     "output_type": "execute_result"
    }
   ],
   "source": [
    "df.tail(10) #View the last 10 columns"
   ]
  },
  {
   "cell_type": "code",
   "execution_count": 7,
   "id": "98bd8438",
   "metadata": {},
   "outputs": [
    {
     "name": "stdout",
     "output_type": "stream",
     "text": [
      "<class 'pandas.core.frame.DataFrame'>\n",
      "RangeIndex: 10847 entries, 0 to 10846\n",
      "Data columns (total 16 columns):\n",
      " #   Column            Non-Null Count  Dtype \n",
      "---  ------            --------------  ----- \n",
      " 0   id                10847 non-null  int64 \n",
      " 1   user_name         10847 non-null  object\n",
      " 2   user_location     8624 non-null   object\n",
      " 3   user_description  10177 non-null  object\n",
      " 4   user_created      10847 non-null  object\n",
      " 5   user_followers    10847 non-null  int64 \n",
      " 6   user_friends      10847 non-null  int64 \n",
      " 7   user_favourites   10847 non-null  int64 \n",
      " 8   user_verified     10847 non-null  bool  \n",
      " 9   date              10847 non-null  object\n",
      " 10  text              10847 non-null  object\n",
      " 11  hashtags          8315 non-null   object\n",
      " 12  source            10846 non-null  object\n",
      " 13  retweets          10847 non-null  int64 \n",
      " 14  favorites         10847 non-null  int64 \n",
      " 15  is_retweet        10847 non-null  bool  \n",
      "dtypes: bool(2), int64(6), object(8)\n",
      "memory usage: 1.2+ MB\n"
     ]
    }
   ],
   "source": [
    "df.info() # Displays comprehensive information about the data"
   ]
  },
  {
   "cell_type": "code",
   "execution_count": 8,
   "id": "7354f2b9",
   "metadata": {},
   "outputs": [
    {
     "name": "stdout",
     "output_type": "stream",
     "text": [
      "Data has 10847 rows and 16 columns\n"
     ]
    }
   ],
   "source": [
    "# Shows the number of rows and columns in the data\n",
    "print('Data has {} rows and {} columns'.format(df.shape[0], df.shape[1])) "
   ]
  },
  {
   "cell_type": "markdown",
   "id": "9f7195c5",
   "metadata": {},
   "source": [
    "# Data cleaning"
   ]
  },
  {
   "cell_type": "markdown",
   "id": "16ad2528",
   "metadata": {},
   "source": [
    "### Convert date column from object to datetime"
   ]
  },
  {
   "cell_type": "code",
   "execution_count": 9,
   "id": "98f6cf3e",
   "metadata": {},
   "outputs": [],
   "source": [
    "df['date'] =  pd.to_datetime(df['date']) #convert to datetime"
   ]
  },
  {
   "cell_type": "code",
   "execution_count": 10,
   "id": "fa5e8411",
   "metadata": {},
   "outputs": [
    {
     "data": {
      "text/plain": [
       "id                           int64\n",
       "user_name                   object\n",
       "user_location               object\n",
       "user_description            object\n",
       "user_created                object\n",
       "user_followers               int64\n",
       "user_friends                 int64\n",
       "user_favourites              int64\n",
       "user_verified                 bool\n",
       "date                datetime64[ns]\n",
       "text                        object\n",
       "hashtags                    object\n",
       "source                      object\n",
       "retweets                     int64\n",
       "favorites                    int64\n",
       "is_retweet                    bool\n",
       "dtype: object"
      ]
     },
     "execution_count": 10,
     "metadata": {},
     "output_type": "execute_result"
    }
   ],
   "source": [
    "#show the new data type , date = datetime\n",
    "df.dtypes"
   ]
  },
  {
   "cell_type": "markdown",
   "id": "bbff1c4f",
   "metadata": {},
   "source": [
    "### Drop Columns [ id , user_description , is_retweet  ]"
   ]
  },
  {
   "cell_type": "code",
   "execution_count": 11,
   "id": "604b505d",
   "metadata": {},
   "outputs": [],
   "source": [
    "df.drop('id', axis=1, inplace=True)\n",
    "df.drop('user_description', axis=1, inplace=True)\n",
    "df.drop('is_retweet', axis=1, inplace=True)"
   ]
  },
  {
   "cell_type": "code",
   "execution_count": 12,
   "id": "27738bea",
   "metadata": {},
   "outputs": [
    {
     "data": {
      "text/plain": [
       "Index(['user_name', 'user_location', 'user_created', 'user_followers',\n",
       "       'user_friends', 'user_favourites', 'user_verified', 'date', 'text',\n",
       "       'hashtags', 'source', 'retweets', 'favorites'],\n",
       "      dtype='object')"
      ]
     },
     "execution_count": 12,
     "metadata": {},
     "output_type": "execute_result"
    }
   ],
   "source": [
    "# Column names are displayed after deletion\n",
    "df.columns "
   ]
  },
  {
   "cell_type": "markdown",
   "id": "79cb4e0c",
   "metadata": {},
   "source": [
    "### Find Duplicates"
   ]
  },
  {
   "cell_type": "code",
   "execution_count": 13,
   "id": "c786e30b",
   "metadata": {},
   "outputs": [
    {
     "data": {
      "text/html": [
       "<div>\n",
       "<style scoped>\n",
       "    .dataframe tbody tr th:only-of-type {\n",
       "        vertical-align: middle;\n",
       "    }\n",
       "\n",
       "    .dataframe tbody tr th {\n",
       "        vertical-align: top;\n",
       "    }\n",
       "\n",
       "    .dataframe thead th {\n",
       "        text-align: right;\n",
       "    }\n",
       "</style>\n",
       "<table border=\"1\" class=\"dataframe\">\n",
       "  <thead>\n",
       "    <tr style=\"text-align: right;\">\n",
       "      <th></th>\n",
       "      <th>user_name</th>\n",
       "      <th>user_location</th>\n",
       "      <th>user_created</th>\n",
       "      <th>user_followers</th>\n",
       "      <th>user_friends</th>\n",
       "      <th>user_favourites</th>\n",
       "      <th>user_verified</th>\n",
       "      <th>date</th>\n",
       "      <th>text</th>\n",
       "      <th>hashtags</th>\n",
       "      <th>source</th>\n",
       "      <th>retweets</th>\n",
       "      <th>favorites</th>\n",
       "    </tr>\n",
       "  </thead>\n",
       "  <tbody>\n",
       "  </tbody>\n",
       "</table>\n",
       "</div>"
      ],
      "text/plain": [
       "Empty DataFrame\n",
       "Columns: [user_name, user_location, user_created, user_followers, user_friends, user_favourites, user_verified, date, text, hashtags, source, retweets, favorites]\n",
       "Index: []"
      ]
     },
     "execution_count": 13,
     "metadata": {},
     "output_type": "execute_result"
    }
   ],
   "source": [
    "duplicate = df[df.duplicated()] #Now duplicate items\n",
    "duplicate"
   ]
  },
  {
   "cell_type": "markdown",
   "id": "cc589e32",
   "metadata": {},
   "source": [
    "- Now duplicate items"
   ]
  },
  {
   "cell_type": "markdown",
   "id": "57fa3a42",
   "metadata": {},
   "source": [
    "### Check for null values"
   ]
  },
  {
   "cell_type": "code",
   "execution_count": 14,
   "id": "869363bc",
   "metadata": {},
   "outputs": [
    {
     "data": {
      "text/plain": [
       "True"
      ]
     },
     "execution_count": 14,
     "metadata": {},
     "output_type": "execute_result"
    }
   ],
   "source": [
    "df.isnull().values.any() # Shoe me i have null values"
   ]
  },
  {
   "cell_type": "code",
   "execution_count": 15,
   "id": "0e0263b6",
   "metadata": {},
   "outputs": [
    {
     "data": {
      "text/plain": [
       "4756"
      ]
     },
     "execution_count": 15,
     "metadata": {},
     "output_type": "execute_result"
    }
   ],
   "source": [
    "df.isnull().sum().sum() # Sum total of the null values "
   ]
  },
  {
   "cell_type": "code",
   "execution_count": 16,
   "id": "fa5739d8",
   "metadata": {},
   "outputs": [
    {
     "data": {
      "text/plain": [
       "user_name             0\n",
       "user_location      2223\n",
       "user_created          0\n",
       "user_followers        0\n",
       "user_friends          0\n",
       "user_favourites       0\n",
       "user_verified         0\n",
       "date                  0\n",
       "text                  0\n",
       "hashtags           2532\n",
       "source                1\n",
       "retweets              0\n",
       "favorites             0\n",
       "dtype: int64"
      ]
     },
     "execution_count": 16,
     "metadata": {},
     "output_type": "execute_result"
    }
   ],
   "source": [
    "df.isnull().sum() # Columns with nall values "
   ]
  },
  {
   "cell_type": "markdown",
   "id": "a2509353",
   "metadata": {},
   "source": [
    "### Substitution for null values"
   ]
  },
  {
   "cell_type": "code",
   "execution_count": 17,
   "id": "4d2ec7c0",
   "metadata": {},
   "outputs": [],
   "source": [
    "df[\"user_location\"].fillna('Others' , inplace = True) # Replace the nall values with others\n",
    "df[\"hashtags\"].fillna('##' , inplace = True) # Replace the nall values with ##"
   ]
  },
  {
   "cell_type": "code",
   "execution_count": 18,
   "id": "008273ff",
   "metadata": {},
   "outputs": [
    {
     "data": {
      "text/plain": [
       "user_name          0\n",
       "user_location      0\n",
       "user_created       0\n",
       "user_followers     0\n",
       "user_friends       0\n",
       "user_favourites    0\n",
       "user_verified      0\n",
       "date               0\n",
       "text               0\n",
       "hashtags           0\n",
       "source             1\n",
       "retweets           0\n",
       "favorites          0\n",
       "dtype: int64"
      ]
     },
     "execution_count": 18,
     "metadata": {},
     "output_type": "execute_result"
    }
   ],
   "source": [
    "df.isna().sum()"
   ]
  },
  {
   "cell_type": "code",
   "execution_count": 19,
   "id": "d8eacec1",
   "metadata": {},
   "outputs": [
    {
     "data": {
      "text/plain": [
       "0        False\n",
       "1        False\n",
       "2        False\n",
       "3        False\n",
       "4        False\n",
       "         ...  \n",
       "10842    False\n",
       "10843    False\n",
       "10844    False\n",
       "10845    False\n",
       "10846    False\n",
       "Name: user_location, Length: 10847, dtype: bool"
      ]
     },
     "execution_count": 19,
     "metadata": {},
     "output_type": "execute_result"
    }
   ],
   "source": [
    "df[\"user_location\"].isnull() # To check the there are no missing values"
   ]
  },
  {
   "cell_type": "code",
   "execution_count": 20,
   "id": "6b657d1e",
   "metadata": {},
   "outputs": [
    {
     "data": {
      "text/plain": [
       "0        False\n",
       "1        False\n",
       "2        False\n",
       "3        False\n",
       "4        False\n",
       "         ...  \n",
       "10842    False\n",
       "10843    False\n",
       "10844    False\n",
       "10845    False\n",
       "10846    False\n",
       "Name: hashtags, Length: 10847, dtype: bool"
      ]
     },
     "execution_count": 20,
     "metadata": {},
     "output_type": "execute_result"
    }
   ],
   "source": [
    "df[\"hashtags\"].isnull() # To check the there are no missing values"
   ]
  },
  {
   "cell_type": "markdown",
   "id": "49839b6a",
   "metadata": {},
   "source": [
    "### Drop row [source]"
   ]
  },
  {
   "cell_type": "code",
   "execution_count": 21,
   "id": "9a196ef8",
   "metadata": {},
   "outputs": [],
   "source": [
    "df.dropna(inplace=True)"
   ]
  },
  {
   "cell_type": "code",
   "execution_count": 22,
   "id": "d24ac5fa",
   "metadata": {},
   "outputs": [
    {
     "data": {
      "text/plain": [
       "user_name          0\n",
       "user_location      0\n",
       "user_created       0\n",
       "user_followers     0\n",
       "user_friends       0\n",
       "user_favourites    0\n",
       "user_verified      0\n",
       "date               0\n",
       "text               0\n",
       "hashtags           0\n",
       "source             0\n",
       "retweets           0\n",
       "favorites          0\n",
       "dtype: int64"
      ]
     },
     "execution_count": 22,
     "metadata": {},
     "output_type": "execute_result"
    }
   ],
   "source": [
    "df.isna().sum()"
   ]
  },
  {
   "cell_type": "code",
   "execution_count": 23,
   "id": "f014cf08",
   "metadata": {},
   "outputs": [
    {
     "data": {
      "text/html": [
       "<div>\n",
       "<style scoped>\n",
       "    .dataframe tbody tr th:only-of-type {\n",
       "        vertical-align: middle;\n",
       "    }\n",
       "\n",
       "    .dataframe tbody tr th {\n",
       "        vertical-align: top;\n",
       "    }\n",
       "\n",
       "    .dataframe thead th {\n",
       "        text-align: right;\n",
       "    }\n",
       "</style>\n",
       "<table border=\"1\" class=\"dataframe\">\n",
       "  <thead>\n",
       "    <tr style=\"text-align: right;\">\n",
       "      <th></th>\n",
       "      <th>user_name</th>\n",
       "      <th>user_location</th>\n",
       "      <th>user_created</th>\n",
       "      <th>user_followers</th>\n",
       "      <th>user_friends</th>\n",
       "      <th>user_favourites</th>\n",
       "      <th>user_verified</th>\n",
       "      <th>date</th>\n",
       "      <th>text</th>\n",
       "      <th>hashtags</th>\n",
       "      <th>source</th>\n",
       "      <th>retweets</th>\n",
       "      <th>favorites</th>\n",
       "    </tr>\n",
       "  </thead>\n",
       "  <tbody>\n",
       "    <tr>\n",
       "      <th>6509</th>\n",
       "      <td>xBullieMad13x</td>\n",
       "      <td>North East, England</td>\n",
       "      <td>2011-06-27 12:57:17</td>\n",
       "      <td>28</td>\n",
       "      <td>210</td>\n",
       "      <td>403</td>\n",
       "      <td>False</td>\n",
       "      <td>2021-03-04 16:27:12</td>\n",
       "      <td>All done, pleased I got the #AstraZeneca #vacc...</td>\n",
       "      <td>['AstraZeneca', 'vaccine', 'PfizerBioNTech']</td>\n",
       "      <td>Twitter for Android</td>\n",
       "      <td>0</td>\n",
       "      <td>0</td>\n",
       "    </tr>\n",
       "    <tr>\n",
       "      <th>5507</th>\n",
       "      <td>Jeremy Fine</td>\n",
       "      <td>Chicago/Chapel Hill</td>\n",
       "      <td>2020-12-24 00:28:01</td>\n",
       "      <td>34</td>\n",
       "      <td>229</td>\n",
       "      <td>50</td>\n",
       "      <td>False</td>\n",
       "      <td>2021-02-11 16:34:27</td>\n",
       "      <td>#PfizerBiontech Shot #2 update: I'm a little u...</td>\n",
       "      <td>['PfizerBiontech']</td>\n",
       "      <td>Twitter for Android</td>\n",
       "      <td>0</td>\n",
       "      <td>2</td>\n",
       "    </tr>\n",
       "    <tr>\n",
       "      <th>4667</th>\n",
       "      <td>Scott Mackay 🇨🇦 🏃‍♂️ ☕️ 🍷 8⃣0⃣ 🎵</td>\n",
       "      <td>Canada</td>\n",
       "      <td>2012-01-12 19:31:36</td>\n",
       "      <td>721</td>\n",
       "      <td>717</td>\n",
       "      <td>13283</td>\n",
       "      <td>False</td>\n",
       "      <td>2021-01-26 10:54:17</td>\n",
       "      <td>#EU threat will not impact #Covid19vaccine del...</td>\n",
       "      <td>['EU', 'Covid19vaccine', 'UK', 'Pfizer']</td>\n",
       "      <td>Twitter Web App</td>\n",
       "      <td>0</td>\n",
       "      <td>0</td>\n",
       "    </tr>\n",
       "    <tr>\n",
       "      <th>5038</th>\n",
       "      <td>Brian McDonough</td>\n",
       "      <td>Philadelphia, Pa.</td>\n",
       "      <td>2011-08-06 16:18:19</td>\n",
       "      <td>667</td>\n",
       "      <td>64</td>\n",
       "      <td>1914</td>\n",
       "      <td>False</td>\n",
       "      <td>2021-02-02 12:00:09</td>\n",
       "      <td>What we know about Mutations https://t.co/UVGB...</td>\n",
       "      <td>['mutations', 'vaccine', 'vaccinationCovid', '...</td>\n",
       "      <td>Twitter Web App</td>\n",
       "      <td>0</td>\n",
       "      <td>0</td>\n",
       "    </tr>\n",
       "    <tr>\n",
       "      <th>5551</th>\n",
       "      <td>Baaghi TV باغی ٹی وی</td>\n",
       "      <td>Pakistan</td>\n",
       "      <td>2012-12-17 13:56:38</td>\n",
       "      <td>43186</td>\n",
       "      <td>5</td>\n",
       "      <td>1422</td>\n",
       "      <td>True</td>\n",
       "      <td>2021-02-13 19:20:40</td>\n",
       "      <td>Lebanon receives first COVID vaccines\\nhttps:/...</td>\n",
       "      <td>['Lebanon', 'COVID19', 'coronavirus', 'Covid_1...</td>\n",
       "      <td>Twitter Web App</td>\n",
       "      <td>0</td>\n",
       "      <td>0</td>\n",
       "    </tr>\n",
       "    <tr>\n",
       "      <th>588</th>\n",
       "      <td>Adityavikram</td>\n",
       "      <td>Pune, Maharashtra</td>\n",
       "      <td>2011-08-17 04:28:18</td>\n",
       "      <td>23</td>\n",
       "      <td>184</td>\n",
       "      <td>114</td>\n",
       "      <td>False</td>\n",
       "      <td>2020-12-16 15:28:53</td>\n",
       "      <td>What if all the governments was a #AmazonPrime...</td>\n",
       "      <td>['AmazonPrime', 'PfizerBioNTech', 'Amazon']</td>\n",
       "      <td>Twitter for Android</td>\n",
       "      <td>0</td>\n",
       "      <td>0</td>\n",
       "    </tr>\n",
       "    <tr>\n",
       "      <th>6535</th>\n",
       "      <td>Shrupti</td>\n",
       "      <td>DC</td>\n",
       "      <td>2009-07-28 12:08:24</td>\n",
       "      <td>1162</td>\n",
       "      <td>1529</td>\n",
       "      <td>7153</td>\n",
       "      <td>False</td>\n",
       "      <td>2021-03-11 20:54:33</td>\n",
       "      <td>Got my #dcvaccine thank you to Larry. I didn’t...</td>\n",
       "      <td>['dcvaccine', 'PfizerBioNTech']</td>\n",
       "      <td>Twitter for iPhone</td>\n",
       "      <td>0</td>\n",
       "      <td>10</td>\n",
       "    </tr>\n",
       "    <tr>\n",
       "      <th>6469</th>\n",
       "      <td>B.W.C.</td>\n",
       "      <td>Others</td>\n",
       "      <td>2013-10-18 08:29:41</td>\n",
       "      <td>204</td>\n",
       "      <td>1091</td>\n",
       "      <td>4009</td>\n",
       "      <td>False</td>\n",
       "      <td>2021-03-03 18:21:06</td>\n",
       "      <td>Second and final dose: March 24th!\\n\\n#COVIDVa...</td>\n",
       "      <td>['COVIDVaccine', 'COVIDVaccination', 'PfizerBi...</td>\n",
       "      <td>Twitter for Android</td>\n",
       "      <td>0</td>\n",
       "      <td>0</td>\n",
       "    </tr>\n",
       "    <tr>\n",
       "      <th>3106</th>\n",
       "      <td>May</td>\n",
       "      <td>Others</td>\n",
       "      <td>2014-03-22 07:54:44</td>\n",
       "      <td>275</td>\n",
       "      <td>1523</td>\n",
       "      <td>807</td>\n",
       "      <td>False</td>\n",
       "      <td>2021-01-10 15:50:56</td>\n",
       "      <td>English-Lit: The Possible Side Effects of Pfiz...</td>\n",
       "      <td>['vaccine']</td>\n",
       "      <td>Twitter for Android</td>\n",
       "      <td>0</td>\n",
       "      <td>0</td>\n",
       "    </tr>\n",
       "    <tr>\n",
       "      <th>9920</th>\n",
       "      <td>EPM Magazine</td>\n",
       "      <td>Cheshire</td>\n",
       "      <td>2009-02-18 16:48:34</td>\n",
       "      <td>4050</td>\n",
       "      <td>1550</td>\n",
       "      <td>952</td>\n",
       "      <td>False</td>\n",
       "      <td>2021-08-24 09:50:09</td>\n",
       "      <td>UK orders additional 35m doses of Pfizer/BioNT...</td>\n",
       "      <td>['COVID19', 'PfizerBiontech']</td>\n",
       "      <td>Twitter Web App</td>\n",
       "      <td>4</td>\n",
       "      <td>3</td>\n",
       "    </tr>\n",
       "  </tbody>\n",
       "</table>\n",
       "</div>"
      ],
      "text/plain": [
       "                             user_name        user_location  \\\n",
       "6509                     xBullieMad13x  North East, England   \n",
       "5507                       Jeremy Fine  Chicago/Chapel Hill   \n",
       "4667  Scott Mackay 🇨🇦 🏃‍♂️ ☕️ 🍷 8⃣0⃣ 🎵               Canada   \n",
       "5038                   Brian McDonough    Philadelphia, Pa.   \n",
       "5551              Baaghi TV باغی ٹی وی             Pakistan   \n",
       "588                       Adityavikram    Pune, Maharashtra   \n",
       "6535                           Shrupti                   DC   \n",
       "6469                            B.W.C.               Others   \n",
       "3106                               May               Others   \n",
       "9920                      EPM Magazine             Cheshire   \n",
       "\n",
       "             user_created  user_followers  user_friends  user_favourites  \\\n",
       "6509  2011-06-27 12:57:17              28           210              403   \n",
       "5507  2020-12-24 00:28:01              34           229               50   \n",
       "4667  2012-01-12 19:31:36             721           717            13283   \n",
       "5038  2011-08-06 16:18:19             667            64             1914   \n",
       "5551  2012-12-17 13:56:38           43186             5             1422   \n",
       "588   2011-08-17 04:28:18              23           184              114   \n",
       "6535  2009-07-28 12:08:24            1162          1529             7153   \n",
       "6469  2013-10-18 08:29:41             204          1091             4009   \n",
       "3106  2014-03-22 07:54:44             275          1523              807   \n",
       "9920  2009-02-18 16:48:34            4050          1550              952   \n",
       "\n",
       "      user_verified                date  \\\n",
       "6509          False 2021-03-04 16:27:12   \n",
       "5507          False 2021-02-11 16:34:27   \n",
       "4667          False 2021-01-26 10:54:17   \n",
       "5038          False 2021-02-02 12:00:09   \n",
       "5551           True 2021-02-13 19:20:40   \n",
       "588           False 2020-12-16 15:28:53   \n",
       "6535          False 2021-03-11 20:54:33   \n",
       "6469          False 2021-03-03 18:21:06   \n",
       "3106          False 2021-01-10 15:50:56   \n",
       "9920          False 2021-08-24 09:50:09   \n",
       "\n",
       "                                                   text  \\\n",
       "6509  All done, pleased I got the #AstraZeneca #vacc...   \n",
       "5507  #PfizerBiontech Shot #2 update: I'm a little u...   \n",
       "4667  #EU threat will not impact #Covid19vaccine del...   \n",
       "5038  What we know about Mutations https://t.co/UVGB...   \n",
       "5551  Lebanon receives first COVID vaccines\\nhttps:/...   \n",
       "588   What if all the governments was a #AmazonPrime...   \n",
       "6535  Got my #dcvaccine thank you to Larry. I didn’t...   \n",
       "6469  Second and final dose: March 24th!\\n\\n#COVIDVa...   \n",
       "3106  English-Lit: The Possible Side Effects of Pfiz...   \n",
       "9920  UK orders additional 35m doses of Pfizer/BioNT...   \n",
       "\n",
       "                                               hashtags               source  \\\n",
       "6509       ['AstraZeneca', 'vaccine', 'PfizerBioNTech']  Twitter for Android   \n",
       "5507                                 ['PfizerBiontech']  Twitter for Android   \n",
       "4667           ['EU', 'Covid19vaccine', 'UK', 'Pfizer']      Twitter Web App   \n",
       "5038  ['mutations', 'vaccine', 'vaccinationCovid', '...      Twitter Web App   \n",
       "5551  ['Lebanon', 'COVID19', 'coronavirus', 'Covid_1...      Twitter Web App   \n",
       "588         ['AmazonPrime', 'PfizerBioNTech', 'Amazon']  Twitter for Android   \n",
       "6535                    ['dcvaccine', 'PfizerBioNTech']   Twitter for iPhone   \n",
       "6469  ['COVIDVaccine', 'COVIDVaccination', 'PfizerBi...  Twitter for Android   \n",
       "3106                                        ['vaccine']  Twitter for Android   \n",
       "9920                      ['COVID19', 'PfizerBiontech']      Twitter Web App   \n",
       "\n",
       "      retweets  favorites  \n",
       "6509         0          0  \n",
       "5507         0          2  \n",
       "4667         0          0  \n",
       "5038         0          0  \n",
       "5551         0          0  \n",
       "588          0          0  \n",
       "6535         0         10  \n",
       "6469         0          0  \n",
       "3106         0          0  \n",
       "9920         4          3  "
      ]
     },
     "execution_count": 23,
     "metadata": {},
     "output_type": "execute_result"
    }
   ],
   "source": [
    "df.sample(10) #View the samle 10 columns"
   ]
  },
  {
   "cell_type": "code",
   "execution_count": 24,
   "id": "f6188f34",
   "metadata": {},
   "outputs": [],
   "source": [
    "# Counts the Number of tweets per person\n",
    "name = Counter(df['user_name'])\n",
    "name = pd.Series(name).sort_values(ascending=False)\n",
    "name = name[name>4]"
   ]
  },
  {
   "cell_type": "code",
   "execution_count": 25,
   "id": "5f3c5293",
   "metadata": {},
   "outputs": [],
   "source": [
    "# Calculates the locations of people who are interested in the vaccine \n",
    "locations = pd.Series(Counter(df['user_location'])).sort_values(ascending=False)\n",
    "locations = locations.drop('Others')[locations>5]"
   ]
  },
  {
   "cell_type": "code",
   "execution_count": 26,
   "id": "3bac60ba",
   "metadata": {},
   "outputs": [],
   "source": [
    "#Calcuates the type of devices from which the tweet was made\n",
    "source = Counter(df['source'])\n",
    "source = pd.Series(source).sort_values(ascending=False)"
   ]
  },
  {
   "cell_type": "code",
   "execution_count": 27,
   "id": "b94cdce6",
   "metadata": {},
   "outputs": [],
   "source": [
    "#Counts the number of verified and unverified accounts  \n",
    "verified = Counter(df['user_verified'])\n",
    "verified = pd.Series(verified).sort_values(ascending=False)"
   ]
  },
  {
   "cell_type": "markdown",
   "id": "ec65e373",
   "metadata": {},
   "source": [
    "__________"
   ]
  },
  {
   "cell_type": "markdown",
   "id": "e8f43dfd",
   "metadata": {},
   "source": [
    "# Charts"
   ]
  },
  {
   "cell_type": "markdown",
   "id": "0ceb3c15",
   "metadata": {},
   "source": [
    "### Q1 \\ What is the relationship of the columns to each other?"
   ]
  },
  {
   "cell_type": "code",
   "execution_count": 28,
   "id": "91421774",
   "metadata": {},
   "outputs": [
    {
     "data": {
      "image/png": "[encoded data removed]",
      "text/plain": [
       "<Figure size 576x432 with 2 Axes>"
      ]
     },
     "metadata": {
      "needs_background": "light"
     },
     "output_type": "display_data"
    }
   ],
   "source": [
    "# Find Coreelation\n",
    "# the more retweets the more favourite\n",
    "# most of the people is not interested in vaccine \n",
    "plt.figure(figsize=(8,6))\n",
    "sns.heatmap(df.corr(),cmap =\"coolwarm\",annot = True)\n",
    "plt.show()"
   ]
  },
  {
   "cell_type": "markdown",
   "id": "6ef4b771",
   "metadata": {},
   "source": [
    "### Is the Publisher account verified or not?"
   ]
  },
  {
   "cell_type": "code",
   "execution_count": 29,
   "id": "03496ab6",
   "metadata": {},
   "outputs": [
    {
     "data": {
      "image/png": "[encoded data removed]",
      "text/plain": [
       "<Figure size 504x504 with 1 Axes>"
      ]
     },
     "metadata": {},
     "output_type": "display_data"
    }
   ],
   "source": [
    "# Most of published accounts are not verified\n",
    "\n",
    "dict_ = df['user_verified'].value_counts().to_dict()\n",
    "dict_['Verified'] = dict_.pop(True)\n",
    "dict_['Not-Verified'] = dict_.pop(False)\n",
    "\n",
    "plt.figure(figsize=(7,7))\n",
    "plt.pie(x=dict_.values(), labels=dict_.keys(), autopct='%1.1f%%', shadow=True, startangle=0, explode = [0.1, 0])\n",
    "plt.show()"
   ]
  },
  {
   "cell_type": "markdown",
   "id": "e02fd532",
   "metadata": {},
   "source": [
    "### Q3 \\ What are the sources of the tweet?"
   ]
  },
  {
   "cell_type": "code",
   "execution_count": 30,
   "id": "9af81446",
   "metadata": {},
   "outputs": [
    {
     "data": {
      "image/png": "[encoded data removed]",
      "text/plain": [
       "<Figure size 504x432 with 1 Axes>"
      ]
     },
     "metadata": {},
     "output_type": "display_data"
    }
   ],
   "source": [
    "# Top 5 Sources (Platform) of tweets\n",
    "# most of people tweets from iphone devices\n",
    "source_count = Counter(df['source'].tolist()).most_common(5)\n",
    "temp = pd.DataFrame(source_count, columns=['Source', 'Count'])\n",
    "\n",
    "plt.figure(figsize=(7,6))\n",
    "plt.pie(x=temp['Count'], labels=temp['Source'], autopct='%1.1f%%', shadow=True, startangle=0)\n",
    "plt.show()\n",
    "\n"
   ]
  },
  {
   "cell_type": "markdown",
   "id": "c82c059b",
   "metadata": {},
   "source": [
    "### Q4 \\ In which time this country showed an interest in vaccines?"
   ]
  },
  {
   "cell_type": "code",
   "execution_count": 31,
   "id": "7cdcfe8a",
   "metadata": {},
   "outputs": [
    {
     "data": {
      "image/png": "[encoded data removed]",
      "text/plain": [
       "<Figure size 432x288 with 1 Axes>"
      ]
     },
     "metadata": {
      "needs_background": "light"
     },
     "output_type": "display_data"
    }
   ],
   "source": [
    "# 21-12-2020 > 21-10-2021\n",
    "df1 = df[\"date\"].dt.month.value_counts().sort_index().plot(kind =\"bar\")\n",
    "plt.xlabel('Number of months', weight='bold')\n",
    "plt.ylabel('Number of people', weight='bold')\n",
    "plt.title('Version 139 | 2020 > 2021')\n",
    "plt.show()\n"
   ]
  },
  {
   "cell_type": "markdown",
   "id": "e0cf342d",
   "metadata": {},
   "source": [
    "### َQ5 \\What are the most important countries in which awareness of taking the vaccine is widespread?"
   ]
  },
  {
   "cell_type": "code",
   "execution_count": 32,
   "id": "6e95481f",
   "metadata": {},
   "outputs": [
    {
     "data": {
      "image/png": "[encoded data removed]",
      "text/plain": [
       "<Figure size 576x432 with 1 Axes>"
      ]
     },
     "metadata": {
      "needs_background": "light"
     },
     "output_type": "display_data"
    }
   ],
   "source": [
    "# locations with most number of users tweets\n",
    "df1 = df['user_location'].copy()\n",
    "df1 = df1[df1!='Others']\n",
    "\n",
    "plt.figure(figsize=(8,6))\n",
    "sns.countplot(y=df1, data=df1, order=df1.value_counts().index[:5])\n",
    "plt.title('Countries interested in the vaccine')\n",
    "plt.xlabel('Number of User', weight='bold')\n",
    "plt.ylabel('Location', weight='bold')\n",
    "plt.show()\n"
   ]
  }
 ],
 "metadata": {
  "kernelspec": {
   "display_name": "Python 3",
   "language": "python",
   "name": "python3"
  },
  "language_info": {
   "codemirror_mode": {
    "name": "ipython",
    "version": 3
   },
   "file_extension": ".py",
   "mimetype": "text/x-python",
   "name": "python",
   "nbconvert_exporter": "python",
   "pygments_lexer": "ipython3",
   "version": "3.8.8"
  }
 },
 "nbformat": 4,
 "nbformat_minor": 5
}
