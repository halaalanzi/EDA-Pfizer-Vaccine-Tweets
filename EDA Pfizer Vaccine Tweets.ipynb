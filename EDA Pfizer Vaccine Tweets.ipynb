{
 "cells": [
  {
   "cell_type": "markdown",
   "id": "5258e824",
   "metadata": {},
   "source": [
    "   # EDA Pfizer Vaccine Tweets\n",
    "____"
   ]
  },
  {
   "cell_type": "markdown",
   "id": "3da0cb37",
   "metadata": {},
   "source": [
    "### Data manipulation libraries:"
   ]
  },
  {
   "cell_type": "code",
   "execution_count": null,
   "id": "8b974b11",
   "metadata": {},
   "outputs": [],
   "source": [
    "import pandas as pd\n",
    "import numpy  as np"
   ]
  },
  {
   "cell_type": "markdown",
   "id": "b76d5e34",
   "metadata": {},
   "source": [
    "### Visualization libraries:"
   ]
  },
  {
   "cell_type": "code",
   "execution_count": null,
   "id": "54283f08",
   "metadata": {},
   "outputs": [],
   "source": [
    "import matplotlib.pyplot as plt\n",
    "import seaborn           as sns\n",
    "import warnings\n",
    "warnings.filterwarnings('ignore')"
   ]
  },
  {
   "cell_type": "markdown",
   "id": "247e0e57",
   "metadata": {},
   "source": [
    "### collections libraries: "
   ]
  },
  {
   "cell_type": "code",
   "execution_count": null,
   "id": "2313c288",
   "metadata": {},
   "outputs": [],
   "source": [
    "from collections import Counter #مكتبه مثل العداد تحسب لي كل شوي تزيد واحد "
   ]
  },
  {
   "cell_type": "markdown",
   "id": "17e717d3",
   "metadata": {},
   "source": [
    "### Load Dataset"
   ]
  },
  {
   "cell_type": "code",
   "execution_count": null,
   "id": "3b8c2aef",
   "metadata": {},
   "outputs": [],
   "source": [
    "df =pd.read_csv(\"vaccination_tweets.csv\") #I read the data in the Jupyter Notebook"
   ]
  },
  {
   "cell_type": "markdown",
   "id": "da97c521",
   "metadata": {},
   "source": [
    "### Data Overview"
   ]
  },
  {
   "cell_type": "code",
   "execution_count": null,
   "id": "0530d3b5",
   "metadata": {},
   "outputs": [],
   "source": [
    "df.head(10) #View the first 10 columns"
   ]
  },
  {
   "cell_type": "code",
   "execution_count": null,
   "id": "34c40f19",
   "metadata": {},
   "outputs": [],
   "source": [
    "df.tail(10) #View the last 10 columns"
   ]
  },
  {
   "cell_type": "code",
   "execution_count": null,
   "id": "f01a6316",
   "metadata": {},
   "outputs": [],
   "source": [
    "df.info() # Displays comprehensive information about the data"
   ]
  },
  {
   "cell_type": "code",
   "execution_count": null,
   "id": "f6657e84",
   "metadata": {},
   "outputs": [],
   "source": [
    "print('Data has {} rows and {} columns'.format(df.shape[0], df.shape[1]))"
   ]
  },
  {
   "cell_type": "markdown",
   "id": "f6a46712",
   "metadata": {},
   "source": [
    "### Convert date column from object to datetime"
   ]
  },
  {
   "cell_type": "code",
   "execution_count": null,
   "id": "207edc6d",
   "metadata": {},
   "outputs": [],
   "source": [
    "df['date'] =  pd.to_datetime(df['date']) #convert to datetime"
   ]
  },
  {
   "cell_type": "code",
   "execution_count": null,
   "id": "0418dbe0",
   "metadata": {},
   "outputs": [],
   "source": [
    "#show the new data type , date = datetime\n",
    "df.dtypes"
   ]
  },
  {
   "cell_type": "markdown",
   "id": "53e576ad",
   "metadata": {},
   "source": [
    "### Drop Columns [ id , user_description , is_retweet  ]"
   ]
  },
  {
   "cell_type": "code",
   "execution_count": null,
   "id": "9c8b3386",
   "metadata": {},
   "outputs": [],
   "source": [
    "df.drop('id', axis=1, inplace=True)\n",
    "df.drop('user_description', axis=1, inplace=True)\n",
    "df.drop('is_retweet', axis=1, inplace=True)"
   ]
  },
  {
   "cell_type": "code",
   "execution_count": null,
   "id": "d20a20b6",
   "metadata": {},
   "outputs": [],
   "source": [
    "df.columns # Column names are displayed after deletion"
   ]
  },
  {
   "cell_type": "markdown",
   "id": "1af791ca",
   "metadata": {},
   "source": [
    "### Find Duplicates"
   ]
  },
  {
   "cell_type": "code",
   "execution_count": null,
   "id": "34907547",
   "metadata": {},
   "outputs": [],
   "source": [
    "duplicate = df[df.duplicated()] #Now duplicate items\n",
    "duplicate"
   ]
  },
  {
   "cell_type": "markdown",
   "id": "b7f88c67",
   "metadata": {},
   "source": [
    "- Now duplicate items"
   ]
  },
  {
   "cell_type": "markdown",
   "id": "9640081c",
   "metadata": {},
   "source": [
    "### Check for null values"
   ]
  },
  {
   "cell_type": "code",
   "execution_count": null,
   "id": "9aac338f",
   "metadata": {},
   "outputs": [],
   "source": [
    "df.isnull().values.any() # Shoe me i have null values"
   ]
  },
  {
   "cell_type": "code",
   "execution_count": null,
   "id": "885aac88",
   "metadata": {},
   "outputs": [],
   "source": [
    "df.isnull().sum().sum() # مجموع nall في data "
   ]
  },
  {
   "cell_type": "code",
   "execution_count": null,
   "id": "af556ea4",
   "metadata": {},
   "outputs": [],
   "source": [
    "df.isnull().sum() # nall موجوده بهذي الاعمده "
   ]
  },
  {
   "cell_type": "markdown",
   "id": "1872f67e",
   "metadata": {},
   "source": [
    "### Substitution for null values"
   ]
  },
  {
   "cell_type": "code",
   "execution_count": null,
   "id": "cdeb9a34",
   "metadata": {},
   "outputs": [],
   "source": [
    "df[\"user_location\"].fillna('Others' , inplace = True) # Replace the nall values with others\n",
    "df[\"hashtags\"].fillna('NaN' , inplace = True) # Replace the nall values with NAN"
   ]
  },
  {
   "cell_type": "code",
   "execution_count": null,
   "id": "eb3e1eb4",
   "metadata": {},
   "outputs": [],
   "source": [
    "df.isna().sum()"
   ]
  },
  {
   "cell_type": "code",
   "execution_count": null,
   "id": "a6a0d490",
   "metadata": {},
   "outputs": [],
   "source": [
    "df[\"user_location\"].isnull() # To check the there are no missing values"
   ]
  },
  {
   "cell_type": "code",
   "execution_count": null,
   "id": "de667e96",
   "metadata": {},
   "outputs": [],
   "source": [
    "df[\"hashtags\"].isnull() # To check the there are no missing values"
   ]
  },
  {
   "cell_type": "markdown",
   "id": "837302bf",
   "metadata": {},
   "source": [
    "### Drop row [source]"
   ]
  },
  {
   "cell_type": "code",
   "execution_count": null,
   "id": "b8180272",
   "metadata": {},
   "outputs": [],
   "source": [
    "df.dropna(inplace=True)"
   ]
  },
  {
   "cell_type": "code",
   "execution_count": null,
   "id": "5b4147f7",
   "metadata": {},
   "outputs": [],
   "source": [
    "df.isna().sum()"
   ]
  },
  {
   "cell_type": "code",
   "execution_count": null,
   "id": "f985d4f9",
   "metadata": {},
   "outputs": [],
   "source": [
    "df.sample(10)"
   ]
  },
  {
   "cell_type": "code",
   "execution_count": null,
   "id": "f6522ba0",
   "metadata": {},
   "outputs": [],
   "source": [
    "# هنا حطيتها بعداد وقلت احسب لي الشخص غرد كم مره وجيب لي اللي غردوا اكثر من 4 مرات \n",
    "name = Counter(df['user_name'])\n",
    "name = pd.Series(name).sort_values(ascending=False)\n",
    "name = name[name>4]\n",
    "name"
   ]
  },
  {
   "cell_type": "code",
   "execution_count": null,
   "id": "6a5f2dbc",
   "metadata": {},
   "outputs": [],
   "source": [
    "#هنا حولتها سيريس وسويت عليها عداد عشان يحسب كل لوكيشن كم مره تكرر وبعدين قلت له احذف اللي تكرر من مكان اخر اذا تكرر اكثر من 5مرات \n",
    "locations = pd.Series(Counter(df['user_location'])).sort_values(ascending=False)\n",
    "locations = locations.drop('Others')[locations>5]\n",
    "locations"
   ]
  },
  {
   "cell_type": "code",
   "execution_count": null,
   "id": "bacef6e6",
   "metadata": {},
   "outputs": [],
   "source": [
    "# يحسب لي انواع الاجهزه اللي عمل منها التغريده\n",
    "source = Counter(df['source'])\n",
    "source = pd.Series(source).sort_values(ascending=False)\n",
    "source"
   ]
  },
  {
   "cell_type": "code",
   "execution_count": null,
   "id": "0b947da7",
   "metadata": {},
   "outputs": [],
   "source": [
    "#هنا يحسب لي عدد الحسابات الموثقه بستار والحسابات الغير موثقه  \n",
    "verified = Counter(df['user_verified'])\n",
    "verified = pd.Series(verified).sort_values(ascending=False)\n",
    "verified"
   ]
  },
  {
   "cell_type": "markdown",
   "id": "2b87f569",
   "metadata": {},
   "source": [
    "__________"
   ]
  },
  {
   "cell_type": "code",
   "execution_count": null,
   "id": "fc028107",
   "metadata": {},
   "outputs": [],
   "source": [
    "# Find Coreelation\n",
    "# the more retweets the more favourite\n",
    "# most of the people is not interested in vaccine \n",
    "sns.heatmap(df.corr(),cmap =\"coolwarm\",annot = True);"
   ]
  },
  {
   "cell_type": "code",
   "execution_count": null,
   "id": "6c64c653",
   "metadata": {},
   "outputs": [],
   "source": [
    "# Most of published accounts are not verified\n",
    "sns.countplot(x='user_verified', data=df)"
   ]
  },
  {
   "cell_type": "code",
   "execution_count": null,
   "id": "5bd3a6d6",
   "metadata": {},
   "outputs": [],
   "source": [
    "# most of people tweets from iphone devices\n",
    "print(df.source.value_counts())\n",
    "df.source.value_counts().plot(kind='bar' ,figsize=(15,5))\n",
    "plt.title('Text Source in Twitter')"
   ]
  },
  {
   "cell_type": "code",
   "execution_count": null,
   "id": "8fd2ef7f",
   "metadata": {
    "scrolled": true
   },
   "outputs": [],
   "source": [
    "# Find most tweets country\n",
    "df['user_location'].value_counts().head(10).plot(kind='bar', figsize=(13,5), title=('Countries interested in the vaccine'))\n",
    "plt.ylabel('Number Of Users',size=16 )\n",
    "plt.xlabel('Countries', size=18)"
   ]
  }
 ],
 "metadata": {
  "kernelspec": {
   "display_name": "Python 3",
   "language": "python",
   "name": "python3"
  },
  "language_info": {
   "codemirror_mode": {
    "name": "ipython",
    "version": 3
   },
   "file_extension": ".py",
   "mimetype": "text/x-python",
   "name": "python",
   "nbconvert_exporter": "python",
   "pygments_lexer": "ipython3",
   "version": "3.8.8"
  }
 },
 "nbformat": 4,
 "nbformat_minor": 5
}
