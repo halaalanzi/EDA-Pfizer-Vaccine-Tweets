{
 "cells": [
  {
   "cell_type": "markdown",
   "id": "76ca6a70",
   "metadata": {},
   "source": [
    "   # EDA Pfizer Vaccine Tweets\n",
    "____"
   ]
  },
  {
   "cell_type": "markdown",
   "id": "4eb397e1",
   "metadata": {},
   "source": [
    "### Data manipulation libraries:"
   ]
  },
  {
   "cell_type": "code",
   "execution_count": 1,
   "id": "03f380ab",
   "metadata": {},
   "outputs": [],
   "source": [
    "import pandas as pd\n",
    "import numpy  as np"
   ]
  },
  {
   "cell_type": "markdown",
   "id": "397ab569",
   "metadata": {},
   "source": [
    "### Visualization libraries:"
   ]
  },
  {
   "cell_type": "code",
   "execution_count": 2,
   "id": "f874f7f5",
   "metadata": {},
   "outputs": [],
   "source": [
    "import matplotlib.pyplot as plt\n",
    "import seaborn           as sns\n",
    "import warnings\n",
    "warnings.filterwarnings('ignore')"
   ]
  },
  {
   "cell_type": "markdown",
   "id": "68381e03",
   "metadata": {},
   "source": [
    "### collections libraries: "
   ]
  },
  {
   "cell_type": "code",
   "execution_count": 3,
   "id": "ff3c4759",
   "metadata": {},
   "outputs": [],
   "source": [
    "from collections import Counter #مكتبه مثل العداد تحسب لي كل شوي تزيد واحد "
   ]
  },
  {
   "cell_type": "markdown",
   "id": "7b83c2d6",
   "metadata": {},
   "source": [
    "### Load Dataset"
   ]
  },
  {
   "cell_type": "code",
   "execution_count": 4,
   "id": "7522eed8",
   "metadata": {},
   "outputs": [],
   "source": [
    "df =pd.read_csv(\"vaccination_tweets.csv\") #I read the data in the Jupyter Notebook"
   ]
  },
  {
   "cell_type": "markdown",
   "id": "4b946b31",
   "metadata": {},
   "source": [
    "### Data Overview"
   ]
  },
  {
   "cell_type": "code",
   "execution_count": 5,
   "id": "9970bcf4",
   "metadata": {},
   "outputs": [
    {
     "data": {
      "text/html": [
       "<div>\n",
       "<style scoped>\n",
       "    .dataframe tbody tr th:only-of-type {\n",
       "        vertical-align: middle;\n",
       "    }\n",
       "\n",
       "    .dataframe tbody tr th {\n",
       "        vertical-align: top;\n",
       "    }\n",
       "\n",
       "    .dataframe thead th {\n",
       "        text-align: right;\n",
       "    }\n",
       "</style>\n",
       "<table border=\"1\" class=\"dataframe\">\n",
       "  <thead>\n",
       "    <tr style=\"text-align: right;\">\n",
       "      <th></th>\n",
       "      <th>id</th>\n",
       "      <th>user_name</th>\n",
       "      <th>user_location</th>\n",
       "      <th>user_description</th>\n",
       "      <th>user_created</th>\n",
       "      <th>user_followers</th>\n",
       "      <th>user_friends</th>\n",
       "      <th>user_favourites</th>\n",
       "      <th>user_verified</th>\n",
       "      <th>date</th>\n",
       "      <th>text</th>\n",
       "      <th>hashtags</th>\n",
       "      <th>source</th>\n",
       "      <th>retweets</th>\n",
       "      <th>favorites</th>\n",
       "      <th>is_retweet</th>\n",
       "    </tr>\n",
       "  </thead>\n",
       "  <tbody>\n",
       "    <tr>\n",
       "      <th>0</th>\n",
       "      <td>1340539111971516416</td>\n",
       "      <td>Rachel Roh</td>\n",
       "      <td>La Crescenta-Montrose, CA</td>\n",
       "      <td>Aggregator of Asian American news; scanning di...</td>\n",
       "      <td>2009-04-08 17:52:46</td>\n",
       "      <td>405</td>\n",
       "      <td>1692</td>\n",
       "      <td>3247</td>\n",
       "      <td>False</td>\n",
       "      <td>2020-12-20 06:06:44</td>\n",
       "      <td>Same folks said daikon paste could treat a cyt...</td>\n",
       "      <td>['PfizerBioNTech']</td>\n",
       "      <td>Twitter for Android</td>\n",
       "      <td>0</td>\n",
       "      <td>0</td>\n",
       "      <td>False</td>\n",
       "    </tr>\n",
       "    <tr>\n",
       "      <th>1</th>\n",
       "      <td>1338158543359250433</td>\n",
       "      <td>Albert Fong</td>\n",
       "      <td>San Francisco, CA</td>\n",
       "      <td>Marketing dude, tech geek, heavy metal &amp; '80s ...</td>\n",
       "      <td>2009-09-21 15:27:30</td>\n",
       "      <td>834</td>\n",
       "      <td>666</td>\n",
       "      <td>178</td>\n",
       "      <td>False</td>\n",
       "      <td>2020-12-13 16:27:13</td>\n",
       "      <td>While the world has been on the wrong side of ...</td>\n",
       "      <td>NaN</td>\n",
       "      <td>Twitter Web App</td>\n",
       "      <td>1</td>\n",
       "      <td>1</td>\n",
       "      <td>False</td>\n",
       "    </tr>\n",
       "    <tr>\n",
       "      <th>2</th>\n",
       "      <td>1337858199140118533</td>\n",
       "      <td>eli🇱🇹🇪🇺👌</td>\n",
       "      <td>Your Bed</td>\n",
       "      <td>heil, hydra 🖐☺</td>\n",
       "      <td>2020-06-25 23:30:28</td>\n",
       "      <td>10</td>\n",
       "      <td>88</td>\n",
       "      <td>155</td>\n",
       "      <td>False</td>\n",
       "      <td>2020-12-12 20:33:45</td>\n",
       "      <td>#coronavirus #SputnikV #AstraZeneca #PfizerBio...</td>\n",
       "      <td>['coronavirus', 'SputnikV', 'AstraZeneca', 'Pf...</td>\n",
       "      <td>Twitter for Android</td>\n",
       "      <td>0</td>\n",
       "      <td>0</td>\n",
       "      <td>False</td>\n",
       "    </tr>\n",
       "    <tr>\n",
       "      <th>3</th>\n",
       "      <td>1337855739918835717</td>\n",
       "      <td>Charles Adler</td>\n",
       "      <td>Vancouver, BC - Canada</td>\n",
       "      <td>Hosting \"CharlesAdlerTonight\" Global News Radi...</td>\n",
       "      <td>2008-09-10 11:28:53</td>\n",
       "      <td>49165</td>\n",
       "      <td>3933</td>\n",
       "      <td>21853</td>\n",
       "      <td>True</td>\n",
       "      <td>2020-12-12 20:23:59</td>\n",
       "      <td>Facts are immutable, Senator, even when you're...</td>\n",
       "      <td>NaN</td>\n",
       "      <td>Twitter Web App</td>\n",
       "      <td>446</td>\n",
       "      <td>2129</td>\n",
       "      <td>False</td>\n",
       "    </tr>\n",
       "    <tr>\n",
       "      <th>4</th>\n",
       "      <td>1337854064604966912</td>\n",
       "      <td>Citizen News Channel</td>\n",
       "      <td>NaN</td>\n",
       "      <td>Citizen News Channel bringing you an alternati...</td>\n",
       "      <td>2020-04-23 17:58:42</td>\n",
       "      <td>152</td>\n",
       "      <td>580</td>\n",
       "      <td>1473</td>\n",
       "      <td>False</td>\n",
       "      <td>2020-12-12 20:17:19</td>\n",
       "      <td>Explain to me again why we need a vaccine @Bor...</td>\n",
       "      <td>['whereareallthesickpeople', 'PfizerBioNTech']</td>\n",
       "      <td>Twitter for iPhone</td>\n",
       "      <td>0</td>\n",
       "      <td>0</td>\n",
       "      <td>False</td>\n",
       "    </tr>\n",
       "    <tr>\n",
       "      <th>5</th>\n",
       "      <td>1337852648389832708</td>\n",
       "      <td>Dee</td>\n",
       "      <td>Birmingham, England</td>\n",
       "      <td>Gastroenterology trainee, Clinical Research Fe...</td>\n",
       "      <td>2020-01-26 21:43:12</td>\n",
       "      <td>105</td>\n",
       "      <td>108</td>\n",
       "      <td>106</td>\n",
       "      <td>False</td>\n",
       "      <td>2020-12-12 20:11:42</td>\n",
       "      <td>Does anyone have any useful advice/guidance fo...</td>\n",
       "      <td>NaN</td>\n",
       "      <td>Twitter for iPhone</td>\n",
       "      <td>0</td>\n",
       "      <td>0</td>\n",
       "      <td>False</td>\n",
       "    </tr>\n",
       "    <tr>\n",
       "      <th>6</th>\n",
       "      <td>1337851215875608579</td>\n",
       "      <td>Gunther Fehlinger</td>\n",
       "      <td>Austria, Ukraine and Kosovo</td>\n",
       "      <td>End North Stream 2 now - the pipeline of corru...</td>\n",
       "      <td>2013-06-10 17:49:22</td>\n",
       "      <td>2731</td>\n",
       "      <td>5001</td>\n",
       "      <td>69344</td>\n",
       "      <td>False</td>\n",
       "      <td>2020-12-12 20:06:00</td>\n",
       "      <td>it is a bit sad to claim the fame for success ...</td>\n",
       "      <td>['vaccination']</td>\n",
       "      <td>Twitter Web App</td>\n",
       "      <td>0</td>\n",
       "      <td>4</td>\n",
       "      <td>False</td>\n",
       "    </tr>\n",
       "    <tr>\n",
       "      <th>7</th>\n",
       "      <td>1337850832256176136</td>\n",
       "      <td>Dr.Krutika Kuppalli</td>\n",
       "      <td>NaN</td>\n",
       "      <td>ID, Global Health, VHF, Pandemic Prep, Emergin...</td>\n",
       "      <td>2019-03-25 04:14:29</td>\n",
       "      <td>21924</td>\n",
       "      <td>593</td>\n",
       "      <td>7815</td>\n",
       "      <td>True</td>\n",
       "      <td>2020-12-12 20:04:29</td>\n",
       "      <td>There have not been many bright days in 2020 b...</td>\n",
       "      <td>['BidenHarris', 'Election2020']</td>\n",
       "      <td>Twitter for iPhone</td>\n",
       "      <td>2</td>\n",
       "      <td>22</td>\n",
       "      <td>False</td>\n",
       "    </tr>\n",
       "    <tr>\n",
       "      <th>8</th>\n",
       "      <td>1337850023531347969</td>\n",
       "      <td>Erin Despas</td>\n",
       "      <td>NaN</td>\n",
       "      <td>Designing&amp;selling on Teespring. Like 90s Disne...</td>\n",
       "      <td>2009-10-30 17:53:54</td>\n",
       "      <td>887</td>\n",
       "      <td>1515</td>\n",
       "      <td>9639</td>\n",
       "      <td>False</td>\n",
       "      <td>2020-12-12 20:01:16</td>\n",
       "      <td>Covid vaccine; You getting it?\\n\\n #CovidVacci...</td>\n",
       "      <td>['CovidVaccine', 'covid19', 'PfizerBioNTech', ...</td>\n",
       "      <td>Twitter Web App</td>\n",
       "      <td>2</td>\n",
       "      <td>1</td>\n",
       "      <td>False</td>\n",
       "    </tr>\n",
       "    <tr>\n",
       "      <th>9</th>\n",
       "      <td>1337842295857623042</td>\n",
       "      <td>Ch.Amjad Ali</td>\n",
       "      <td>Islamabad</td>\n",
       "      <td>#ProudPakistani #LovePakArmy #PMIK @insafiansp...</td>\n",
       "      <td>2012-11-12 04:18:12</td>\n",
       "      <td>671</td>\n",
       "      <td>2368</td>\n",
       "      <td>20469</td>\n",
       "      <td>False</td>\n",
       "      <td>2020-12-12 19:30:33</td>\n",
       "      <td>#CovidVaccine \\n\\nStates will start getting #C...</td>\n",
       "      <td>['CovidVaccine', 'COVID19Vaccine', 'US', 'paku...</td>\n",
       "      <td>Twitter Web App</td>\n",
       "      <td>0</td>\n",
       "      <td>0</td>\n",
       "      <td>False</td>\n",
       "    </tr>\n",
       "  </tbody>\n",
       "</table>\n",
       "</div>"
      ],
      "text/plain": [
       "                    id             user_name                user_location  \\\n",
       "0  1340539111971516416            Rachel Roh    La Crescenta-Montrose, CA   \n",
       "1  1338158543359250433           Albert Fong            San Francisco, CA   \n",
       "2  1337858199140118533              eli🇱🇹🇪🇺👌                     Your Bed   \n",
       "3  1337855739918835717         Charles Adler       Vancouver, BC - Canada   \n",
       "4  1337854064604966912  Citizen News Channel                          NaN   \n",
       "5  1337852648389832708                   Dee          Birmingham, England   \n",
       "6  1337851215875608579     Gunther Fehlinger  Austria, Ukraine and Kosovo   \n",
       "7  1337850832256176136   Dr.Krutika Kuppalli                          NaN   \n",
       "8  1337850023531347969           Erin Despas                          NaN   \n",
       "9  1337842295857623042          Ch.Amjad Ali                    Islamabad   \n",
       "\n",
       "                                    user_description         user_created  \\\n",
       "0  Aggregator of Asian American news; scanning di...  2009-04-08 17:52:46   \n",
       "1  Marketing dude, tech geek, heavy metal & '80s ...  2009-09-21 15:27:30   \n",
       "2                                     heil, hydra 🖐☺  2020-06-25 23:30:28   \n",
       "3  Hosting \"CharlesAdlerTonight\" Global News Radi...  2008-09-10 11:28:53   \n",
       "4  Citizen News Channel bringing you an alternati...  2020-04-23 17:58:42   \n",
       "5  Gastroenterology trainee, Clinical Research Fe...  2020-01-26 21:43:12   \n",
       "6  End North Stream 2 now - the pipeline of corru...  2013-06-10 17:49:22   \n",
       "7  ID, Global Health, VHF, Pandemic Prep, Emergin...  2019-03-25 04:14:29   \n",
       "8  Designing&selling on Teespring. Like 90s Disne...  2009-10-30 17:53:54   \n",
       "9  #ProudPakistani #LovePakArmy #PMIK @insafiansp...  2012-11-12 04:18:12   \n",
       "\n",
       "   user_followers  user_friends  user_favourites  user_verified  \\\n",
       "0             405          1692             3247          False   \n",
       "1             834           666              178          False   \n",
       "2              10            88              155          False   \n",
       "3           49165          3933            21853           True   \n",
       "4             152           580             1473          False   \n",
       "5             105           108              106          False   \n",
       "6            2731          5001            69344          False   \n",
       "7           21924           593             7815           True   \n",
       "8             887          1515             9639          False   \n",
       "9             671          2368            20469          False   \n",
       "\n",
       "                  date                                               text  \\\n",
       "0  2020-12-20 06:06:44  Same folks said daikon paste could treat a cyt...   \n",
       "1  2020-12-13 16:27:13  While the world has been on the wrong side of ...   \n",
       "2  2020-12-12 20:33:45  #coronavirus #SputnikV #AstraZeneca #PfizerBio...   \n",
       "3  2020-12-12 20:23:59  Facts are immutable, Senator, even when you're...   \n",
       "4  2020-12-12 20:17:19  Explain to me again why we need a vaccine @Bor...   \n",
       "5  2020-12-12 20:11:42  Does anyone have any useful advice/guidance fo...   \n",
       "6  2020-12-12 20:06:00  it is a bit sad to claim the fame for success ...   \n",
       "7  2020-12-12 20:04:29  There have not been many bright days in 2020 b...   \n",
       "8  2020-12-12 20:01:16  Covid vaccine; You getting it?\\n\\n #CovidVacci...   \n",
       "9  2020-12-12 19:30:33  #CovidVaccine \\n\\nStates will start getting #C...   \n",
       "\n",
       "                                            hashtags               source  \\\n",
       "0                                 ['PfizerBioNTech']  Twitter for Android   \n",
       "1                                                NaN      Twitter Web App   \n",
       "2  ['coronavirus', 'SputnikV', 'AstraZeneca', 'Pf...  Twitter for Android   \n",
       "3                                                NaN      Twitter Web App   \n",
       "4     ['whereareallthesickpeople', 'PfizerBioNTech']   Twitter for iPhone   \n",
       "5                                                NaN   Twitter for iPhone   \n",
       "6                                    ['vaccination']      Twitter Web App   \n",
       "7                    ['BidenHarris', 'Election2020']   Twitter for iPhone   \n",
       "8  ['CovidVaccine', 'covid19', 'PfizerBioNTech', ...      Twitter Web App   \n",
       "9  ['CovidVaccine', 'COVID19Vaccine', 'US', 'paku...      Twitter Web App   \n",
       "\n",
       "   retweets  favorites  is_retweet  \n",
       "0         0          0       False  \n",
       "1         1          1       False  \n",
       "2         0          0       False  \n",
       "3       446       2129       False  \n",
       "4         0          0       False  \n",
       "5         0          0       False  \n",
       "6         0          4       False  \n",
       "7         2         22       False  \n",
       "8         2          1       False  \n",
       "9         0          0       False  "
      ]
     },
     "execution_count": 5,
     "metadata": {},
     "output_type": "execute_result"
    }
   ],
   "source": [
    "df.head(10) #View the first 10 columns"
   ]
  },
  {
   "cell_type": "code",
   "execution_count": 6,
   "id": "056e0a33",
   "metadata": {},
   "outputs": [
    {
     "data": {
      "text/html": [
       "<div>\n",
       "<style scoped>\n",
       "    .dataframe tbody tr th:only-of-type {\n",
       "        vertical-align: middle;\n",
       "    }\n",
       "\n",
       "    .dataframe tbody tr th {\n",
       "        vertical-align: top;\n",
       "    }\n",
       "\n",
       "    .dataframe thead th {\n",
       "        text-align: right;\n",
       "    }\n",
       "</style>\n",
       "<table border=\"1\" class=\"dataframe\">\n",
       "  <thead>\n",
       "    <tr style=\"text-align: right;\">\n",
       "      <th></th>\n",
       "      <th>id</th>\n",
       "      <th>user_name</th>\n",
       "      <th>user_location</th>\n",
       "      <th>user_description</th>\n",
       "      <th>user_created</th>\n",
       "      <th>user_followers</th>\n",
       "      <th>user_friends</th>\n",
       "      <th>user_favourites</th>\n",
       "      <th>user_verified</th>\n",
       "      <th>date</th>\n",
       "      <th>text</th>\n",
       "      <th>hashtags</th>\n",
       "      <th>source</th>\n",
       "      <th>retweets</th>\n",
       "      <th>favorites</th>\n",
       "      <th>is_retweet</th>\n",
       "    </tr>\n",
       "  </thead>\n",
       "  <tbody>\n",
       "    <tr>\n",
       "      <th>10837</th>\n",
       "      <td>1448465164748001282</td>\n",
       "      <td>Yaffa Lyulka</td>\n",
       "      <td>USA</td>\n",
       "      <td>Citizen of the world. ❤️ #Love #travel, #tea &amp;...</td>\n",
       "      <td>2010-11-27 20:45:15</td>\n",
       "      <td>7093</td>\n",
       "      <td>7777</td>\n",
       "      <td>310114</td>\n",
       "      <td>False</td>\n",
       "      <td>2021-10-14 01:46:21</td>\n",
       "      <td>I'm vaccinated. I still wear a mask.\\nI wear i...</td>\n",
       "      <td>['Iamyou', 'Youareme']</td>\n",
       "      <td>Twitter for iPhone</td>\n",
       "      <td>2</td>\n",
       "      <td>4</td>\n",
       "      <td>False</td>\n",
       "    </tr>\n",
       "    <tr>\n",
       "      <th>10838</th>\n",
       "      <td>1448409639037644803</td>\n",
       "      <td>Jacob Newton</td>\n",
       "      <td>NaN</td>\n",
       "      <td>Journalist with KELOLAND News | Husband | Dad ...</td>\n",
       "      <td>2019-12-25 16:23:26</td>\n",
       "      <td>95</td>\n",
       "      <td>100</td>\n",
       "      <td>330</td>\n",
       "      <td>False</td>\n",
       "      <td>2021-10-13 22:05:42</td>\n",
       "      <td>While the Pfizer-BioNTech vaccine has been aut...</td>\n",
       "      <td>NaN</td>\n",
       "      <td>Twitter Web App</td>\n",
       "      <td>0</td>\n",
       "      <td>0</td>\n",
       "      <td>False</td>\n",
       "    </tr>\n",
       "    <tr>\n",
       "      <th>10839</th>\n",
       "      <td>1448385874203398147</td>\n",
       "      <td>Skull Of Syria</td>\n",
       "      <td>NaN</td>\n",
       "      <td>Save Syria. Free Palestine. 2 State solution. ...</td>\n",
       "      <td>2016-10-05 21:12:43</td>\n",
       "      <td>369</td>\n",
       "      <td>972</td>\n",
       "      <td>1131</td>\n",
       "      <td>False</td>\n",
       "      <td>2021-10-13 20:31:16</td>\n",
       "      <td>The #chemtrails finally make sense - alongside...</td>\n",
       "      <td>['chemtrails', 'climatecatastrophe']</td>\n",
       "      <td>Twitter for Android</td>\n",
       "      <td>0</td>\n",
       "      <td>0</td>\n",
       "      <td>False</td>\n",
       "    </tr>\n",
       "    <tr>\n",
       "      <th>10840</th>\n",
       "      <td>1448379238785032194</td>\n",
       "      <td>one.small.wish</td>\n",
       "      <td>Ohio</td>\n",
       "      <td>Old enough to know better, young enough to do ...</td>\n",
       "      <td>2009-10-21 18:27:09</td>\n",
       "      <td>801</td>\n",
       "      <td>2118</td>\n",
       "      <td>65303</td>\n",
       "      <td>False</td>\n",
       "      <td>2021-10-13 20:04:54</td>\n",
       "      <td>8. Pfizer's vaccine has been FDA-approved. Hm....</td>\n",
       "      <td>NaN</td>\n",
       "      <td>Twitter Web App</td>\n",
       "      <td>0</td>\n",
       "      <td>1</td>\n",
       "      <td>False</td>\n",
       "    </tr>\n",
       "    <tr>\n",
       "      <th>10841</th>\n",
       "      <td>1448376675801055234</td>\n",
       "      <td>one.small.wish</td>\n",
       "      <td>Ohio</td>\n",
       "      <td>Old enough to know better, young enough to do ...</td>\n",
       "      <td>2009-10-21 18:27:09</td>\n",
       "      <td>801</td>\n",
       "      <td>2118</td>\n",
       "      <td>65303</td>\n",
       "      <td>False</td>\n",
       "      <td>2021-10-13 19:54:43</td>\n",
       "      <td>Oh and hey: Update yourself: https://t.co/GGle...</td>\n",
       "      <td>['PfizerBioNTech']</td>\n",
       "      <td>Twitter Web App</td>\n",
       "      <td>0</td>\n",
       "      <td>1</td>\n",
       "      <td>False</td>\n",
       "    </tr>\n",
       "    <tr>\n",
       "      <th>10842</th>\n",
       "      <td>1448358770971643916</td>\n",
       "      <td>Pistache</td>\n",
       "      <td>NaN</td>\n",
       "      <td>NaN</td>\n",
       "      <td>2020-04-13 01:44:16</td>\n",
       "      <td>58</td>\n",
       "      <td>98</td>\n",
       "      <td>3522</td>\n",
       "      <td>False</td>\n",
       "      <td>2021-10-13 18:43:34</td>\n",
       "      <td>2019🎞️https://t.co/mbNxvTvcHn Transplant touri...</td>\n",
       "      <td>['COP15', 'COP26', 'COVID19']</td>\n",
       "      <td>Twitter for Android</td>\n",
       "      <td>0</td>\n",
       "      <td>0</td>\n",
       "      <td>False</td>\n",
       "    </tr>\n",
       "    <tr>\n",
       "      <th>10843</th>\n",
       "      <td>1448357099193479169</td>\n",
       "      <td>Sarah Tallent, DNP, CPNP-AC</td>\n",
       "      <td>North Carolina, USA</td>\n",
       "      <td>AC-PNP and instructor | family-centered care a...</td>\n",
       "      <td>2020-04-29 20:28:02</td>\n",
       "      <td>188</td>\n",
       "      <td>472</td>\n",
       "      <td>569</td>\n",
       "      <td>False</td>\n",
       "      <td>2021-10-13 18:36:56</td>\n",
       "      <td>Got that power boost 💉🦠 \\n\\nI do it for myself...</td>\n",
       "      <td>['PfizerBiontech']</td>\n",
       "      <td>Twitter for iPhone</td>\n",
       "      <td>1</td>\n",
       "      <td>3</td>\n",
       "      <td>False</td>\n",
       "    </tr>\n",
       "    <tr>\n",
       "      <th>10844</th>\n",
       "      <td>1448310047759642631</td>\n",
       "      <td>Antoine Haddad</td>\n",
       "      <td>NaN</td>\n",
       "      <td>Expat since 2015</td>\n",
       "      <td>2021-07-14 09:00:03</td>\n",
       "      <td>652</td>\n",
       "      <td>310</td>\n",
       "      <td>5345</td>\n",
       "      <td>False</td>\n",
       "      <td>2021-10-13 15:29:58</td>\n",
       "      <td>Today I took my second shot of #PfizerBiontech...</td>\n",
       "      <td>['PfizerBiontech', 'UAE', 'Dubai']</td>\n",
       "      <td>Twitter for iPhone</td>\n",
       "      <td>1</td>\n",
       "      <td>33</td>\n",
       "      <td>False</td>\n",
       "    </tr>\n",
       "    <tr>\n",
       "      <th>10845</th>\n",
       "      <td>1448208383094312962</td>\n",
       "      <td>ActivistBowen (PFIZERED TO THE MAX!/GET VAXXED!)</td>\n",
       "      <td>Hong Kong</td>\n",
       "      <td>AMERICAN in HONG KONG, person, blogger, dissid...</td>\n",
       "      <td>2011-06-08 20:17:01</td>\n",
       "      <td>3998</td>\n",
       "      <td>5002</td>\n",
       "      <td>5052</td>\n",
       "      <td>False</td>\n",
       "      <td>2021-10-13 08:45:59</td>\n",
       "      <td>@RCDG_PhD 1. from YOUR FELLOW HUMAN...,(Octobe...</td>\n",
       "      <td>['FULLYVACCINATED', 'PFIZERBIONTECH', 'PFIZER']</td>\n",
       "      <td>Twitter Web App</td>\n",
       "      <td>0</td>\n",
       "      <td>0</td>\n",
       "      <td>False</td>\n",
       "    </tr>\n",
       "    <tr>\n",
       "      <th>10846</th>\n",
       "      <td>1448202162912129032</td>\n",
       "      <td>Baey Yam Keng 马炎庆</td>\n",
       "      <td>Singapore</td>\n",
       "      <td>MP for Tampines GRC, Senior Parliamentary Secr...</td>\n",
       "      <td>2009-02-12 06:52:13</td>\n",
       "      <td>43500</td>\n",
       "      <td>266</td>\n",
       "      <td>893</td>\n",
       "      <td>True</td>\n",
       "      <td>2021-10-13 08:21:16</td>\n",
       "      <td>Just took my booster jab. Not sure if I would ...</td>\n",
       "      <td>['covid_19']</td>\n",
       "      <td>Twitter for iPhone</td>\n",
       "      <td>0</td>\n",
       "      <td>20</td>\n",
       "      <td>False</td>\n",
       "    </tr>\n",
       "  </tbody>\n",
       "</table>\n",
       "</div>"
      ],
      "text/plain": [
       "                        id                                         user_name  \\\n",
       "10837  1448465164748001282                                      Yaffa Lyulka   \n",
       "10838  1448409639037644803                                      Jacob Newton   \n",
       "10839  1448385874203398147                                    Skull Of Syria   \n",
       "10840  1448379238785032194                                    one.small.wish   \n",
       "10841  1448376675801055234                                    one.small.wish   \n",
       "10842  1448358770971643916                                          Pistache   \n",
       "10843  1448357099193479169                       Sarah Tallent, DNP, CPNP-AC   \n",
       "10844  1448310047759642631                                    Antoine Haddad   \n",
       "10845  1448208383094312962  ActivistBowen (PFIZERED TO THE MAX!/GET VAXXED!)   \n",
       "10846  1448202162912129032                                 Baey Yam Keng 马炎庆   \n",
       "\n",
       "             user_location                                   user_description  \\\n",
       "10837                  USA  Citizen of the world. ❤️ #Love #travel, #tea &...   \n",
       "10838                  NaN  Journalist with KELOLAND News | Husband | Dad ...   \n",
       "10839                  NaN  Save Syria. Free Palestine. 2 State solution. ...   \n",
       "10840                 Ohio  Old enough to know better, young enough to do ...   \n",
       "10841                 Ohio  Old enough to know better, young enough to do ...   \n",
       "10842                  NaN                                                NaN   \n",
       "10843  North Carolina, USA  AC-PNP and instructor | family-centered care a...   \n",
       "10844                  NaN                                   Expat since 2015   \n",
       "10845            Hong Kong  AMERICAN in HONG KONG, person, blogger, dissid...   \n",
       "10846            Singapore  MP for Tampines GRC, Senior Parliamentary Secr...   \n",
       "\n",
       "              user_created  user_followers  user_friends  user_favourites  \\\n",
       "10837  2010-11-27 20:45:15            7093          7777           310114   \n",
       "10838  2019-12-25 16:23:26              95           100              330   \n",
       "10839  2016-10-05 21:12:43             369           972             1131   \n",
       "10840  2009-10-21 18:27:09             801          2118            65303   \n",
       "10841  2009-10-21 18:27:09             801          2118            65303   \n",
       "10842  2020-04-13 01:44:16              58            98             3522   \n",
       "10843  2020-04-29 20:28:02             188           472              569   \n",
       "10844  2021-07-14 09:00:03             652           310             5345   \n",
       "10845  2011-06-08 20:17:01            3998          5002             5052   \n",
       "10846  2009-02-12 06:52:13           43500           266              893   \n",
       "\n",
       "       user_verified                 date  \\\n",
       "10837          False  2021-10-14 01:46:21   \n",
       "10838          False  2021-10-13 22:05:42   \n",
       "10839          False  2021-10-13 20:31:16   \n",
       "10840          False  2021-10-13 20:04:54   \n",
       "10841          False  2021-10-13 19:54:43   \n",
       "10842          False  2021-10-13 18:43:34   \n",
       "10843          False  2021-10-13 18:36:56   \n",
       "10844          False  2021-10-13 15:29:58   \n",
       "10845          False  2021-10-13 08:45:59   \n",
       "10846           True  2021-10-13 08:21:16   \n",
       "\n",
       "                                                    text  \\\n",
       "10837  I'm vaccinated. I still wear a mask.\\nI wear i...   \n",
       "10838  While the Pfizer-BioNTech vaccine has been aut...   \n",
       "10839  The #chemtrails finally make sense - alongside...   \n",
       "10840  8. Pfizer's vaccine has been FDA-approved. Hm....   \n",
       "10841  Oh and hey: Update yourself: https://t.co/GGle...   \n",
       "10842  2019🎞️https://t.co/mbNxvTvcHn Transplant touri...   \n",
       "10843  Got that power boost 💉🦠 \\n\\nI do it for myself...   \n",
       "10844  Today I took my second shot of #PfizerBiontech...   \n",
       "10845  @RCDG_PhD 1. from YOUR FELLOW HUMAN...,(Octobe...   \n",
       "10846  Just took my booster jab. Not sure if I would ...   \n",
       "\n",
       "                                              hashtags               source  \\\n",
       "10837                           ['Iamyou', 'Youareme']   Twitter for iPhone   \n",
       "10838                                              NaN      Twitter Web App   \n",
       "10839             ['chemtrails', 'climatecatastrophe']  Twitter for Android   \n",
       "10840                                              NaN      Twitter Web App   \n",
       "10841                               ['PfizerBioNTech']      Twitter Web App   \n",
       "10842                    ['COP15', 'COP26', 'COVID19']  Twitter for Android   \n",
       "10843                               ['PfizerBiontech']   Twitter for iPhone   \n",
       "10844               ['PfizerBiontech', 'UAE', 'Dubai']   Twitter for iPhone   \n",
       "10845  ['FULLYVACCINATED', 'PFIZERBIONTECH', 'PFIZER']      Twitter Web App   \n",
       "10846                                     ['covid_19']   Twitter for iPhone   \n",
       "\n",
       "       retweets  favorites  is_retweet  \n",
       "10837         2          4       False  \n",
       "10838         0          0       False  \n",
       "10839         0          0       False  \n",
       "10840         0          1       False  \n",
       "10841         0          1       False  \n",
       "10842         0          0       False  \n",
       "10843         1          3       False  \n",
       "10844         1         33       False  \n",
       "10845         0          0       False  \n",
       "10846         0         20       False  "
      ]
     },
     "execution_count": 6,
     "metadata": {},
     "output_type": "execute_result"
    }
   ],
   "source": [
    "df.tail(10) #View the last 10 columns"
   ]
  },
  {
   "cell_type": "code",
   "execution_count": 7,
   "id": "98bd8438",
   "metadata": {},
   "outputs": [
    {
     "name": "stdout",
     "output_type": "stream",
     "text": [
      "<class 'pandas.core.frame.DataFrame'>\n",
      "RangeIndex: 10847 entries, 0 to 10846\n",
      "Data columns (total 16 columns):\n",
      " #   Column            Non-Null Count  Dtype \n",
      "---  ------            --------------  ----- \n",
      " 0   id                10847 non-null  int64 \n",
      " 1   user_name         10847 non-null  object\n",
      " 2   user_location     8624 non-null   object\n",
      " 3   user_description  10177 non-null  object\n",
      " 4   user_created      10847 non-null  object\n",
      " 5   user_followers    10847 non-null  int64 \n",
      " 6   user_friends      10847 non-null  int64 \n",
      " 7   user_favourites   10847 non-null  int64 \n",
      " 8   user_verified     10847 non-null  bool  \n",
      " 9   date              10847 non-null  object\n",
      " 10  text              10847 non-null  object\n",
      " 11  hashtags          8315 non-null   object\n",
      " 12  source            10846 non-null  object\n",
      " 13  retweets          10847 non-null  int64 \n",
      " 14  favorites         10847 non-null  int64 \n",
      " 15  is_retweet        10847 non-null  bool  \n",
      "dtypes: bool(2), int64(6), object(8)\n",
      "memory usage: 1.2+ MB\n"
     ]
    }
   ],
   "source": [
    "df.info() # Displays comprehensive information about the data"
   ]
  },
  {
   "cell_type": "code",
   "execution_count": 8,
   "id": "7354f2b9",
   "metadata": {},
   "outputs": [
    {
     "name": "stdout",
     "output_type": "stream",
     "text": [
      "Data has 10847 rows and 16 columns\n"
     ]
    }
   ],
   "source": [
    "print('Data has {} rows and {} columns'.format(df.shape[0], df.shape[1]))"
   ]
  },
  {
   "cell_type": "markdown",
   "id": "346746d3",
   "metadata": {},
   "source": [
    "# Data cleaning"
   ]
  },
  {
   "cell_type": "markdown",
   "id": "16ad2528",
   "metadata": {},
   "source": [
    "### Convert date column from object to datetime"
   ]
  },
  {
   "cell_type": "code",
   "execution_count": 9,
   "id": "98f6cf3e",
   "metadata": {},
   "outputs": [],
   "source": [
    "df['date'] =  pd.to_datetime(df['date']) #convert to datetime"
   ]
  },
  {
   "cell_type": "code",
   "execution_count": 10,
   "id": "fa5e8411",
   "metadata": {},
   "outputs": [
    {
     "data": {
      "text/plain": [
       "id                           int64\n",
       "user_name                   object\n",
       "user_location               object\n",
       "user_description            object\n",
       "user_created                object\n",
       "user_followers               int64\n",
       "user_friends                 int64\n",
       "user_favourites              int64\n",
       "user_verified                 bool\n",
       "date                datetime64[ns]\n",
       "text                        object\n",
       "hashtags                    object\n",
       "source                      object\n",
       "retweets                     int64\n",
       "favorites                    int64\n",
       "is_retweet                    bool\n",
       "dtype: object"
      ]
     },
     "execution_count": 10,
     "metadata": {},
     "output_type": "execute_result"
    }
   ],
   "source": [
    "#show the new data type , date = datetime\n",
    "df.dtypes"
   ]
  },
  {
   "cell_type": "markdown",
   "id": "bbff1c4f",
   "metadata": {},
   "source": [
    "### Drop Columns [ id , user_description , is_retweet  ]"
   ]
  },
  {
   "cell_type": "code",
   "execution_count": 11,
   "id": "604b505d",
   "metadata": {},
   "outputs": [],
   "source": [
    "df.drop('id', axis=1, inplace=True)\n",
    "df.drop('user_description', axis=1, inplace=True)\n",
    "df.drop('is_retweet', axis=1, inplace=True)"
   ]
  },
  {
   "cell_type": "code",
   "execution_count": 12,
   "id": "27738bea",
   "metadata": {},
   "outputs": [
    {
     "data": {
      "text/plain": [
       "Index(['user_name', 'user_location', 'user_created', 'user_followers',\n",
       "       'user_friends', 'user_favourites', 'user_verified', 'date', 'text',\n",
       "       'hashtags', 'source', 'retweets', 'favorites'],\n",
       "      dtype='object')"
      ]
     },
     "execution_count": 12,
     "metadata": {},
     "output_type": "execute_result"
    }
   ],
   "source": [
    "df.columns # Column names are displayed after deletion"
   ]
  },
  {
   "cell_type": "markdown",
   "id": "79cb4e0c",
   "metadata": {},
   "source": [
    "### Find Duplicates"
   ]
  },
  {
   "cell_type": "code",
   "execution_count": 13,
   "id": "c786e30b",
   "metadata": {},
   "outputs": [
    {
     "data": {
      "text/html": [
       "<div>\n",
       "<style scoped>\n",
       "    .dataframe tbody tr th:only-of-type {\n",
       "        vertical-align: middle;\n",
       "    }\n",
       "\n",
       "    .dataframe tbody tr th {\n",
       "        vertical-align: top;\n",
       "    }\n",
       "\n",
       "    .dataframe thead th {\n",
       "        text-align: right;\n",
       "    }\n",
       "</style>\n",
       "<table border=\"1\" class=\"dataframe\">\n",
       "  <thead>\n",
       "    <tr style=\"text-align: right;\">\n",
       "      <th></th>\n",
       "      <th>user_name</th>\n",
       "      <th>user_location</th>\n",
       "      <th>user_created</th>\n",
       "      <th>user_followers</th>\n",
       "      <th>user_friends</th>\n",
       "      <th>user_favourites</th>\n",
       "      <th>user_verified</th>\n",
       "      <th>date</th>\n",
       "      <th>text</th>\n",
       "      <th>hashtags</th>\n",
       "      <th>source</th>\n",
       "      <th>retweets</th>\n",
       "      <th>favorites</th>\n",
       "    </tr>\n",
       "  </thead>\n",
       "  <tbody>\n",
       "  </tbody>\n",
       "</table>\n",
       "</div>"
      ],
      "text/plain": [
       "Empty DataFrame\n",
       "Columns: [user_name, user_location, user_created, user_followers, user_friends, user_favourites, user_verified, date, text, hashtags, source, retweets, favorites]\n",
       "Index: []"
      ]
     },
     "execution_count": 13,
     "metadata": {},
     "output_type": "execute_result"
    }
   ],
   "source": [
    "duplicate = df[df.duplicated()] #Now duplicate items\n",
    "duplicate"
   ]
  },
  {
   "cell_type": "markdown",
   "id": "cc589e32",
   "metadata": {},
   "source": [
    "- Now duplicate items"
   ]
  },
  {
   "cell_type": "markdown",
   "id": "57fa3a42",
   "metadata": {},
   "source": [
    "### Check for null values"
   ]
  },
  {
   "cell_type": "code",
   "execution_count": 14,
   "id": "869363bc",
   "metadata": {},
   "outputs": [
    {
     "data": {
      "text/plain": [
       "True"
      ]
     },
     "execution_count": 14,
     "metadata": {},
     "output_type": "execute_result"
    }
   ],
   "source": [
    "df.isnull().values.any() # Shoe me i have null values"
   ]
  },
  {
   "cell_type": "code",
   "execution_count": 15,
   "id": "0e0263b6",
   "metadata": {},
   "outputs": [
    {
     "data": {
      "text/plain": [
       "4756"
      ]
     },
     "execution_count": 15,
     "metadata": {},
     "output_type": "execute_result"
    }
   ],
   "source": [
    "df.isnull().sum().sum() # مجموع nall في data "
   ]
  },
  {
   "cell_type": "code",
   "execution_count": 16,
   "id": "fa5739d8",
   "metadata": {},
   "outputs": [
    {
     "data": {
      "text/plain": [
       "user_name             0\n",
       "user_location      2223\n",
       "user_created          0\n",
       "user_followers        0\n",
       "user_friends          0\n",
       "user_favourites       0\n",
       "user_verified         0\n",
       "date                  0\n",
       "text                  0\n",
       "hashtags           2532\n",
       "source                1\n",
       "retweets              0\n",
       "favorites             0\n",
       "dtype: int64"
      ]
     },
     "execution_count": 16,
     "metadata": {},
     "output_type": "execute_result"
    }
   ],
   "source": [
    "df.isnull().sum() # nall موجوده بهذي الاعمده "
   ]
  },
  {
   "cell_type": "markdown",
   "id": "a2509353",
   "metadata": {},
   "source": [
    "### Substitution for null values"
   ]
  },
  {
   "cell_type": "code",
   "execution_count": 17,
   "id": "4d2ec7c0",
   "metadata": {},
   "outputs": [],
   "source": [
    "df[\"user_location\"].fillna('Others' , inplace = True) # Replace the nall values with others\n",
    "df[\"hashtags\"].fillna('##' , inplace = True) # Replace the nall values with NAN"
   ]
  },
  {
   "cell_type": "code",
   "execution_count": 18,
   "id": "008273ff",
   "metadata": {},
   "outputs": [
    {
     "data": {
      "text/plain": [
       "user_name          0\n",
       "user_location      0\n",
       "user_created       0\n",
       "user_followers     0\n",
       "user_friends       0\n",
       "user_favourites    0\n",
       "user_verified      0\n",
       "date               0\n",
       "text               0\n",
       "hashtags           0\n",
       "source             1\n",
       "retweets           0\n",
       "favorites          0\n",
       "dtype: int64"
      ]
     },
     "execution_count": 18,
     "metadata": {},
     "output_type": "execute_result"
    }
   ],
   "source": [
    "df.isna().sum()"
   ]
  },
  {
   "cell_type": "code",
   "execution_count": 19,
   "id": "d8eacec1",
   "metadata": {},
   "outputs": [
    {
     "data": {
      "text/plain": [
       "0        False\n",
       "1        False\n",
       "2        False\n",
       "3        False\n",
       "4        False\n",
       "         ...  \n",
       "10842    False\n",
       "10843    False\n",
       "10844    False\n",
       "10845    False\n",
       "10846    False\n",
       "Name: user_location, Length: 10847, dtype: bool"
      ]
     },
     "execution_count": 19,
     "metadata": {},
     "output_type": "execute_result"
    }
   ],
   "source": [
    "df[\"user_location\"].isnull() # To check the there are no missing values"
   ]
  },
  {
   "cell_type": "code",
   "execution_count": 20,
   "id": "6b657d1e",
   "metadata": {},
   "outputs": [
    {
     "data": {
      "text/plain": [
       "0        False\n",
       "1        False\n",
       "2        False\n",
       "3        False\n",
       "4        False\n",
       "         ...  \n",
       "10842    False\n",
       "10843    False\n",
       "10844    False\n",
       "10845    False\n",
       "10846    False\n",
       "Name: hashtags, Length: 10847, dtype: bool"
      ]
     },
     "execution_count": 20,
     "metadata": {},
     "output_type": "execute_result"
    }
   ],
   "source": [
    "df[\"hashtags\"].isnull() # To check the there are no missing values"
   ]
  },
  {
   "cell_type": "markdown",
   "id": "49839b6a",
   "metadata": {},
   "source": [
    "### Drop row [source]"
   ]
  },
  {
   "cell_type": "code",
   "execution_count": 21,
   "id": "9a196ef8",
   "metadata": {},
   "outputs": [],
   "source": [
    "df.dropna(inplace=True)"
   ]
  },
  {
   "cell_type": "code",
   "execution_count": 22,
   "id": "d24ac5fa",
   "metadata": {},
   "outputs": [
    {
     "data": {
      "text/plain": [
       "user_name          0\n",
       "user_location      0\n",
       "user_created       0\n",
       "user_followers     0\n",
       "user_friends       0\n",
       "user_favourites    0\n",
       "user_verified      0\n",
       "date               0\n",
       "text               0\n",
       "hashtags           0\n",
       "source             0\n",
       "retweets           0\n",
       "favorites          0\n",
       "dtype: int64"
      ]
     },
     "execution_count": 22,
     "metadata": {},
     "output_type": "execute_result"
    }
   ],
   "source": [
    "df.isna().sum()"
   ]
  },
  {
   "cell_type": "code",
   "execution_count": 23,
   "id": "f014cf08",
   "metadata": {},
   "outputs": [
    {
     "data": {
      "text/html": [
       "<div>\n",
       "<style scoped>\n",
       "    .dataframe tbody tr th:only-of-type {\n",
       "        vertical-align: middle;\n",
       "    }\n",
       "\n",
       "    .dataframe tbody tr th {\n",
       "        vertical-align: top;\n",
       "    }\n",
       "\n",
       "    .dataframe thead th {\n",
       "        text-align: right;\n",
       "    }\n",
       "</style>\n",
       "<table border=\"1\" class=\"dataframe\">\n",
       "  <thead>\n",
       "    <tr style=\"text-align: right;\">\n",
       "      <th></th>\n",
       "      <th>user_name</th>\n",
       "      <th>user_location</th>\n",
       "      <th>user_created</th>\n",
       "      <th>user_followers</th>\n",
       "      <th>user_friends</th>\n",
       "      <th>user_favourites</th>\n",
       "      <th>user_verified</th>\n",
       "      <th>date</th>\n",
       "      <th>text</th>\n",
       "      <th>hashtags</th>\n",
       "      <th>source</th>\n",
       "      <th>retweets</th>\n",
       "      <th>favorites</th>\n",
       "    </tr>\n",
       "  </thead>\n",
       "  <tbody>\n",
       "    <tr>\n",
       "      <th>5192</th>\n",
       "      <td>Susan G. Bornstein, MD, MPH</td>\n",
       "      <td>Others</td>\n",
       "      <td>2020-08-19 00:23:56</td>\n",
       "      <td>19</td>\n",
       "      <td>26</td>\n",
       "      <td>10</td>\n",
       "      <td>False</td>\n",
       "      <td>2021-02-04 21:20:11</td>\n",
       "      <td>Millions of Americans are anxiously awaiting t...</td>\n",
       "      <td>##</td>\n",
       "      <td>Blog2Social APP</td>\n",
       "      <td>0</td>\n",
       "      <td>0</td>\n",
       "    </tr>\n",
       "    <tr>\n",
       "      <th>7524</th>\n",
       "      <td>Gerard Abeysena</td>\n",
       "      <td>Dubai, United Arab Emirates</td>\n",
       "      <td>2010-07-12 03:59:43</td>\n",
       "      <td>370</td>\n",
       "      <td>385</td>\n",
       "      <td>19248</td>\n",
       "      <td>False</td>\n",
       "      <td>2021-03-31 08:47:19</td>\n",
       "      <td>@route345art #PfizerBioNTech was approved by #...</td>\n",
       "      <td>['PfizerBioNTech', 'UAE']</td>\n",
       "      <td>Twitter for Android</td>\n",
       "      <td>0</td>\n",
       "      <td>0</td>\n",
       "    </tr>\n",
       "    <tr>\n",
       "      <th>10264</th>\n",
       "      <td>Hafiz hamza</td>\n",
       "      <td>Others</td>\n",
       "      <td>2020-07-17 17:50:51</td>\n",
       "      <td>0</td>\n",
       "      <td>4</td>\n",
       "      <td>0</td>\n",
       "      <td>False</td>\n",
       "      <td>2021-08-27 20:51:29</td>\n",
       "      <td>COVAX delivers the First Batch of 3 Million Pf...</td>\n",
       "      <td>['Pakistan']</td>\n",
       "      <td>Twitter Web App</td>\n",
       "      <td>0</td>\n",
       "      <td>0</td>\n",
       "    </tr>\n",
       "    <tr>\n",
       "      <th>7225</th>\n",
       "      <td>TheMalaysianReserve</td>\n",
       "      <td>Malaysia</td>\n",
       "      <td>2011-05-05 16:27:46</td>\n",
       "      <td>7483</td>\n",
       "      <td>189</td>\n",
       "      <td>0</td>\n",
       "      <td>False</td>\n",
       "      <td>2021-03-24 08:03:02</td>\n",
       "      <td>Hong Kong, Macau suspend Pfizer/BioNTech vacci...</td>\n",
       "      <td>['HongKong', 'Macau', 'PfizerBioNTech']</td>\n",
       "      <td>Twitter Web App</td>\n",
       "      <td>0</td>\n",
       "      <td>1</td>\n",
       "    </tr>\n",
       "    <tr>\n",
       "      <th>10402</th>\n",
       "      <td>Pals @Entrepreneurix</td>\n",
       "      <td>Europe / USA / World</td>\n",
       "      <td>2011-02-15 17:21:47</td>\n",
       "      <td>10158</td>\n",
       "      <td>11009</td>\n",
       "      <td>31218</td>\n",
       "      <td>False</td>\n",
       "      <td>2021-09-10 18:33:53</td>\n",
       "      <td>Pfizer Partner to Seek Approval Soon for Vacci...</td>\n",
       "      <td>['BioNTech', 'PfizerBioNTech']</td>\n",
       "      <td>Twitter for Android</td>\n",
       "      <td>0</td>\n",
       "      <td>0</td>\n",
       "    </tr>\n",
       "    <tr>\n",
       "      <th>7304</th>\n",
       "      <td>Natasha Atkins</td>\n",
       "      <td>Virginia, USA</td>\n",
       "      <td>2009-04-19 23:50:56</td>\n",
       "      <td>148</td>\n",
       "      <td>988</td>\n",
       "      <td>310</td>\n",
       "      <td>False</td>\n",
       "      <td>2021-03-27 20:48:23</td>\n",
       "      <td>Me and the hubby @brooklyngee got our 1st shot...</td>\n",
       "      <td>['covidvacccine', 'vsu', 'pfizerbiontech']</td>\n",
       "      <td>Instagram</td>\n",
       "      <td>0</td>\n",
       "      <td>0</td>\n",
       "    </tr>\n",
       "    <tr>\n",
       "      <th>1852</th>\n",
       "      <td>Sam 💙</td>\n",
       "      <td>Others</td>\n",
       "      <td>2019-08-26 19:05:43</td>\n",
       "      <td>266</td>\n",
       "      <td>437</td>\n",
       "      <td>1485</td>\n",
       "      <td>False</td>\n",
       "      <td>2020-12-30 11:41:11</td>\n",
       "      <td>First dose ✅😃\\n\\n#CovidVaccine #PfizerBioNTech...</td>\n",
       "      <td>['CovidVaccine', 'PfizerBioNTech', 'GetVaccina...</td>\n",
       "      <td>Twitter for iPad</td>\n",
       "      <td>0</td>\n",
       "      <td>7</td>\n",
       "    </tr>\n",
       "    <tr>\n",
       "      <th>7161</th>\n",
       "      <td>Rishi G</td>\n",
       "      <td>Others</td>\n",
       "      <td>2019-09-26 14:44:15</td>\n",
       "      <td>2</td>\n",
       "      <td>13</td>\n",
       "      <td>66</td>\n",
       "      <td>False</td>\n",
       "      <td>2021-03-22 19:00:23</td>\n",
       "      <td>@GSK We re still waiting a help from gsk for t...</td>\n",
       "      <td>##</td>\n",
       "      <td>Twitter for iPhone</td>\n",
       "      <td>0</td>\n",
       "      <td>0</td>\n",
       "    </tr>\n",
       "    <tr>\n",
       "      <th>3198</th>\n",
       "      <td>Naomi Morris 💚💙🖤</td>\n",
       "      <td>Essex</td>\n",
       "      <td>2014-03-26 18:45:12</td>\n",
       "      <td>337</td>\n",
       "      <td>727</td>\n",
       "      <td>11988</td>\n",
       "      <td>False</td>\n",
       "      <td>2021-01-11 15:42:22</td>\n",
       "      <td>I got my #vaccine!! @MSEHospitals &amp;amp; #TheAr...</td>\n",
       "      <td>['vaccine', 'TheArmy']</td>\n",
       "      <td>Twitter for iPhone</td>\n",
       "      <td>0</td>\n",
       "      <td>37</td>\n",
       "    </tr>\n",
       "    <tr>\n",
       "      <th>1107</th>\n",
       "      <td>Shazia</td>\n",
       "      <td>KSCKD, C2 Riyadh</td>\n",
       "      <td>2016-03-27 17:32:38</td>\n",
       "      <td>64</td>\n",
       "      <td>280</td>\n",
       "      <td>1013</td>\n",
       "      <td>False</td>\n",
       "      <td>2020-12-25 10:32:38</td>\n",
       "      <td>Vaccinated 1st dose against COVID-19 #PfizerBi...</td>\n",
       "      <td>['PfizerBioNTech']</td>\n",
       "      <td>Twitter for iPhone</td>\n",
       "      <td>0</td>\n",
       "      <td>0</td>\n",
       "    </tr>\n",
       "  </tbody>\n",
       "</table>\n",
       "</div>"
      ],
      "text/plain": [
       "                         user_name                user_location  \\\n",
       "5192   Susan G. Bornstein, MD, MPH                       Others   \n",
       "7524               Gerard Abeysena  Dubai, United Arab Emirates   \n",
       "10264                  Hafiz hamza                       Others   \n",
       "7225           TheMalaysianReserve                     Malaysia   \n",
       "10402         Pals @Entrepreneurix        Europe / USA / World    \n",
       "7304                Natasha Atkins                Virginia, USA   \n",
       "1852                         Sam 💙                       Others   \n",
       "7161                       Rishi G                       Others   \n",
       "3198              Naomi Morris 💚💙🖤                        Essex   \n",
       "1107                        Shazia             KSCKD, C2 Riyadh   \n",
       "\n",
       "              user_created  user_followers  user_friends  user_favourites  \\\n",
       "5192   2020-08-19 00:23:56              19            26               10   \n",
       "7524   2010-07-12 03:59:43             370           385            19248   \n",
       "10264  2020-07-17 17:50:51               0             4                0   \n",
       "7225   2011-05-05 16:27:46            7483           189                0   \n",
       "10402  2011-02-15 17:21:47           10158         11009            31218   \n",
       "7304   2009-04-19 23:50:56             148           988              310   \n",
       "1852   2019-08-26 19:05:43             266           437             1485   \n",
       "7161   2019-09-26 14:44:15               2            13               66   \n",
       "3198   2014-03-26 18:45:12             337           727            11988   \n",
       "1107   2016-03-27 17:32:38              64           280             1013   \n",
       "\n",
       "       user_verified                date  \\\n",
       "5192           False 2021-02-04 21:20:11   \n",
       "7524           False 2021-03-31 08:47:19   \n",
       "10264          False 2021-08-27 20:51:29   \n",
       "7225           False 2021-03-24 08:03:02   \n",
       "10402          False 2021-09-10 18:33:53   \n",
       "7304           False 2021-03-27 20:48:23   \n",
       "1852           False 2020-12-30 11:41:11   \n",
       "7161           False 2021-03-22 19:00:23   \n",
       "3198           False 2021-01-11 15:42:22   \n",
       "1107           False 2020-12-25 10:32:38   \n",
       "\n",
       "                                                    text  \\\n",
       "5192   Millions of Americans are anxiously awaiting t...   \n",
       "7524   @route345art #PfizerBioNTech was approved by #...   \n",
       "10264  COVAX delivers the First Batch of 3 Million Pf...   \n",
       "7225   Hong Kong, Macau suspend Pfizer/BioNTech vacci...   \n",
       "10402  Pfizer Partner to Seek Approval Soon for Vacci...   \n",
       "7304   Me and the hubby @brooklyngee got our 1st shot...   \n",
       "1852   First dose ✅😃\\n\\n#CovidVaccine #PfizerBioNTech...   \n",
       "7161   @GSK We re still waiting a help from gsk for t...   \n",
       "3198   I got my #vaccine!! @MSEHospitals &amp; #TheAr...   \n",
       "1107   Vaccinated 1st dose against COVID-19 #PfizerBi...   \n",
       "\n",
       "                                                hashtags               source  \\\n",
       "5192                                                  ##      Blog2Social APP   \n",
       "7524                           ['PfizerBioNTech', 'UAE']  Twitter for Android   \n",
       "10264                                       ['Pakistan']      Twitter Web App   \n",
       "7225             ['HongKong', 'Macau', 'PfizerBioNTech']      Twitter Web App   \n",
       "10402                     ['BioNTech', 'PfizerBioNTech']  Twitter for Android   \n",
       "7304          ['covidvacccine', 'vsu', 'pfizerbiontech']            Instagram   \n",
       "1852   ['CovidVaccine', 'PfizerBioNTech', 'GetVaccina...     Twitter for iPad   \n",
       "7161                                                  ##   Twitter for iPhone   \n",
       "3198                              ['vaccine', 'TheArmy']   Twitter for iPhone   \n",
       "1107                                  ['PfizerBioNTech']   Twitter for iPhone   \n",
       "\n",
       "       retweets  favorites  \n",
       "5192          0          0  \n",
       "7524          0          0  \n",
       "10264         0          0  \n",
       "7225          0          1  \n",
       "10402         0          0  \n",
       "7304          0          0  \n",
       "1852          0          7  \n",
       "7161          0          0  \n",
       "3198          0         37  \n",
       "1107          0          0  "
      ]
     },
     "execution_count": 23,
     "metadata": {},
     "output_type": "execute_result"
    }
   ],
   "source": [
    "df.sample(10)"
   ]
  },
  {
   "cell_type": "code",
   "execution_count": 24,
   "id": "f6188f34",
   "metadata": {},
   "outputs": [
    {
     "data": {
      "text/plain": [
       "New Straits Times           93\n",
       "theSun                      81\n",
       "CHEManager International    76\n",
       "TheRag                      49\n",
       "🕷Financial Bear 3.5%        45\n",
       "                            ..\n",
       "Arab News                    5\n",
       "The Epoch Times              5\n",
       "Giri Shan Rajahram           5\n",
       "The World Reviews            5\n",
       "First India                  5\n",
       "Length: 238, dtype: int64"
      ]
     },
     "execution_count": 24,
     "metadata": {},
     "output_type": "execute_result"
    }
   ],
   "source": [
    "# هنا حطيتها بعداد وقلت احسب لي الشخص غرد كم مره وجيب لي اللي غردوا اكثر من 4 مرات \n",
    "name = Counter(df['user_name'])\n",
    "name = pd.Series(name).sort_values(ascending=False)\n",
    "name = name[name>4]\n",
    "name"
   ]
  },
  {
   "cell_type": "code",
   "execution_count": 25,
   "id": "5f3c5293",
   "metadata": {},
   "outputs": [
    {
     "data": {
      "text/plain": [
       "Malaysia             164\n",
       "London, England      141\n",
       "India                127\n",
       "London                95\n",
       "Canada                90\n",
       "                    ... \n",
       "Portland, OR           6\n",
       "Ottawa, Ontario        6\n",
       "Edmonton, Alberta      6\n",
       "भारत                   6\n",
       "Edale, UK              6\n",
       "Length: 239, dtype: int64"
      ]
     },
     "execution_count": 25,
     "metadata": {},
     "output_type": "execute_result"
    }
   ],
   "source": [
    "#هنا حولتها سيريس وسويت عليها عداد عشان يحسب كل لوكيشن كم مره تكرر وبعدين قلت له احذف اللي تكرر من مكان اخر اذا تكرر اكثر من 5مرات \n",
    "locations = pd.Series(Counter(df['user_location'])).sort_values(ascending=False)\n",
    "locations = locations.drop('Others')[locations>5]\n",
    "locations"
   ]
  },
  {
   "cell_type": "code",
   "execution_count": 26,
   "id": "3bac60ba",
   "metadata": {},
   "outputs": [
    {
     "data": {
      "text/plain": [
       "Twitter for iPhone     3545\n",
       "Twitter Web App        3189\n",
       "Twitter for Android    2682\n",
       "TweetDeck               612\n",
       "Twitter for iPad        270\n",
       "                       ... \n",
       "Imminent News             1\n",
       "ThreadReaderApp           1\n",
       "Publer                    1\n",
       "News Medical              1\n",
       "EastMojo                  1\n",
       "Length: 61, dtype: int64"
      ]
     },
     "execution_count": 26,
     "metadata": {},
     "output_type": "execute_result"
    }
   ],
   "source": [
    "# يحسب لي انواع الاجهزه اللي عمل منها التغريده\n",
    "source = Counter(df['source'])\n",
    "source = pd.Series(source).sort_values(ascending=False)\n",
    "source"
   ]
  },
  {
   "cell_type": "code",
   "execution_count": 27,
   "id": "b94cdce6",
   "metadata": {},
   "outputs": [
    {
     "data": {
      "text/plain": [
       "False    9921\n",
       "True      925\n",
       "dtype: int64"
      ]
     },
     "execution_count": 27,
     "metadata": {},
     "output_type": "execute_result"
    }
   ],
   "source": [
    "#هنا يحسب لي عدد الحسابات الموثقه بستار والحسابات الغير موثقه  \n",
    "verified = Counter(df['user_verified'])\n",
    "verified = pd.Series(verified).sort_values(ascending=False)\n",
    "verified"
   ]
  },
  {
   "cell_type": "markdown",
   "id": "ec65e373",
   "metadata": {},
   "source": [
    "__________"
   ]
  },
  {
   "cell_type": "markdown",
   "id": "9a143cab",
   "metadata": {},
   "source": [
    "# Charts"
   ]
  },
  {
   "cell_type": "code",
   "execution_count": 28,
   "id": "91421774",
   "metadata": {},
   "outputs": [
    {
     "data": {
      "image/png": "[encoded data removed]",
      "text/plain": [
       "<Figure size 576x432 with 2 Axes>"
      ]
     },
     "metadata": {
      "needs_background": "light"
     },
     "output_type": "display_data"
    }
   ],
   "source": [
    "# Find Coreelation\n",
    "# the more retweets the more favourite\n",
    "# most of the people is not interested in vaccine \n",
    "plt.figure(figsize=(8,6))\n",
    "sns.heatmap(df.corr(),cmap =\"coolwarm\",annot = True)\n",
    "plt.show()"
   ]
  },
  {
   "cell_type": "code",
   "execution_count": 29,
   "id": "a1702029",
   "metadata": {},
   "outputs": [
    {
     "data": {
      "text/plain": [
       "<AxesSubplot:xlabel='user_verified', ylabel='count'>"
      ]
     },
     "execution_count": 29,
     "metadata": {},
     "output_type": "execute_result"
    },
    {
     "data": {
      "image/png": "[encoded data removed]",
      "text/plain": [
       "<Figure size 432x288 with 1 Axes>"
      ]
     },
     "metadata": {
      "needs_background": "light"
     },
     "output_type": "display_data"
    }
   ],
   "source": [
    "# Most of published accounts are not verified\n",
    "sns.countplot(x='user_verified', data=df)"
   ]
  },
  {
   "cell_type": "code",
   "execution_count": 30,
   "id": "9af81446",
   "metadata": {},
   "outputs": [
    {
     "data": {
      "image/png": "[encoded data removed]",
      "text/plain": [
       "<Figure size 504x432 with 1 Axes>"
      ]
     },
     "metadata": {},
     "output_type": "display_data"
    }
   ],
   "source": [
    "# Top 5 Sources (Platform) of tweets\n",
    "# most of people tweets from iphone devices\n",
    "source_count = Counter(df['source'].tolist()).most_common(5)\n",
    "temp = pd.DataFrame(source_count, columns=['Source', 'Count'])\n",
    "\n",
    "plt.figure(figsize=(7,6))\n",
    "plt.pie(x=temp['Count'], labels=temp['Source'], autopct='%1.1f%%', shadow=True, startangle=0)\n",
    "plt.show()\n",
    "\n"
   ]
  },
  {
   "cell_type": "code",
   "execution_count": 31,
   "id": "7aa9660c",
   "metadata": {},
   "outputs": [
    {
     "data": {
      "image/png": "[encoded data removed]",
      "text/plain": [
       "<Figure size 576x432 with 1 Axes>"
      ]
     },
     "metadata": {
      "needs_background": "light"
     },
     "output_type": "display_data"
    }
   ],
   "source": [
    "# locations with most number of users tweets\n",
    "plt.figure(figsize=(8,6))\n",
    "sns.countplot(y='user_location', data=df, order=df['user_location'].value_counts().index[:5])\n",
    "plt.xlabel('Number of User', weight='bold')\n",
    "plt.ylabel('Location', weight='bold')\n",
    "plt.show()\n"
   ]
  },
  {
   "cell_type": "code",
   "execution_count": null,
   "id": "aabfcd52",
   "metadata": {},
   "outputs": [],
   "source": []
  },
  {
   "cell_type": "code",
   "execution_count": null,
   "id": "0d915a3c",
   "metadata": {},
   "outputs": [],
   "source": []
  }
 ],
 "metadata": {
  "kernelspec": {
   "display_name": "Python 3",
   "language": "python",
   "name": "python3"
  },
  "language_info": {
   "codemirror_mode": {
    "name": "ipython",
    "version": 3
   },
   "file_extension": ".py",
   "mimetype": "text/x-python",
   "name": "python",
   "nbconvert_exporter": "python",
   "pygments_lexer": "ipython3",
   "version": "3.8.8"
  }
 },
 "nbformat": 4,
 "nbformat_minor": 5
}
